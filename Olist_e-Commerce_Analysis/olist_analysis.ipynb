{
 "cells": [
  {
   "cell_type": "markdown",
   "metadata": {
    "id": "cWDijqRGKn8I"
   },
   "source": [
    "# CAPSTONE PROJECT"
   ]
  },
  {
   "cell_type": "markdown",
   "metadata": {
    "id": "UEnIzR1tlWhB"
   },
   "source": [
    "## Connect Colab to GDrive"
   ]
  },
  {
   "cell_type": "code",
   "execution_count": 257,
   "metadata": {
    "colab": {
     "base_uri": "https://localhost:8080/"
    },
    "id": "4Q2pgfwMlbRY",
    "outputId": "8b1444d6-8fc5-4262-cf9b-db40a51d353e"
   },
   "outputs": [
    {
     "name": "stdout",
     "output_type": "stream",
     "text": [
      "Drive already mounted at /content/gdrive; to attempt to forcibly remount, call drive.mount(\"/content/gdrive\", force_remount=True).\n"
     ]
    }
   ],
   "source": [
    "from google.colab import drive\n",
    "drive.mount('/content/gdrive')\n",
    "import os"
   ]
  },
  {
   "cell_type": "code",
   "execution_count": 258,
   "metadata": {
    "id": "Joyw0559guZq"
   },
   "outputs": [],
   "source": [
    "path = \"/content/gdrive/MyDrive/Capstone Project Narasio/\""
   ]
  },
  {
   "cell_type": "code",
   "execution_count": 259,
   "metadata": {
    "colab": {
     "base_uri": "https://localhost:8080/"
    },
    "id": "26zEFU-Wg-oO",
    "outputId": "8a4873ff-05ab-4148-fde2-6245149bed50"
   },
   "outputs": [
    {
     "data": {
      "text/plain": [
       "['Olist E-commerce.db',\n",
       " '.ipynb_checkpoints',\n",
       " 'data_capstone.csv',\n",
       " 'data_capstone_terbaru.csv',\n",
       " 'data_capstone',\n",
       " 'export_dataframe.csv',\n",
       " 'df_terbaru.csv']"
      ]
     },
     "execution_count": 259,
     "metadata": {},
     "output_type": "execute_result"
    }
   ],
   "source": [
    "os.listdir(path)"
   ]
  },
  {
   "cell_type": "markdown",
   "metadata": {
    "id": "M6YWX-NtKn8K"
   },
   "source": [
    "## IMPORT PACKAGES"
   ]
  },
  {
   "cell_type": "code",
   "execution_count": 260,
   "metadata": {
    "id": "MHUsnon5l5yo"
   },
   "outputs": [],
   "source": [
    "# Import Packages\n",
    "import sqlite3\n",
    "import pandas as pd\n",
    "from datetime import datetime as dt\n",
    "import seaborn as sns\n",
    "import matplotlib.pyplot as plt\n",
    "import numpy as np"
   ]
  },
  {
   "cell_type": "markdown",
   "metadata": {
    "id": "TmfuYV3clcWk"
   },
   "source": [
    "## Connect SQLite to Python"
   ]
  },
  {
   "cell_type": "code",
   "execution_count": 261,
   "metadata": {
    "id": "v31KzqKnling"
   },
   "outputs": [],
   "source": [
    "conn = sqlite3.connect(path + 'Olist E-commerce.db' )"
   ]
  },
  {
   "cell_type": "code",
   "execution_count": 262,
   "metadata": {
    "id": "kFmbUe4Kheu3"
   },
   "outputs": [],
   "source": [
    "cur = conn.cursor()"
   ]
  },
  {
   "cell_type": "code",
   "execution_count": 263,
   "metadata": {
    "colab": {
     "base_uri": "https://localhost:8080/"
    },
    "id": "xFPP070wiJ_h",
    "outputId": "ef69bc5e-eeee-4d3b-f878-9b1b89ab12c2"
   },
   "outputs": [
    {
     "name": "stdout",
     "output_type": "stream",
     "text": [
      "[('Orders',), ('Products',), ('Customers',), ('Sellers',), ('Geolocation',)]\n"
     ]
    }
   ],
   "source": [
    "cur.execute(\"\"\"\n",
    "              SELECT \n",
    "                    name \n",
    "              FROM sqlite_master \n",
    "              WHERE type ='table'\n",
    "            \"\"\")\n",
    "print(cur.fetchall())"
   ]
  },
  {
   "cell_type": "markdown",
   "metadata": {
    "id": "031LDaaFlk2t"
   },
   "source": [
    "## Data Preparation Using SQL"
   ]
  },
  {
   "cell_type": "code",
   "execution_count": 264,
   "metadata": {
    "colab": {
     "base_uri": "https://localhost:8080/",
     "height": 424
    },
    "id": "6ukFGBYTmvWv",
    "outputId": "ba1b08b2-0eac-46fe-a428-100c00365b93"
   },
   "outputs": [
    {
     "data": {
      "text/html": [
       "<div>\n",
       "<style scoped>\n",
       "    .dataframe tbody tr th:only-of-type {\n",
       "        vertical-align: middle;\n",
       "    }\n",
       "\n",
       "    .dataframe tbody tr th {\n",
       "        vertical-align: top;\n",
       "    }\n",
       "\n",
       "    .dataframe thead th {\n",
       "        text-align: right;\n",
       "    }\n",
       "</style>\n",
       "<table border=\"1\" class=\"dataframe\">\n",
       "  <thead>\n",
       "    <tr style=\"text-align: right;\">\n",
       "      <th></th>\n",
       "      <th>order_id</th>\n",
       "      <th>product_id</th>\n",
       "      <th>customer_id</th>\n",
       "      <th>order_status</th>\n",
       "      <th>order_purchase_timestamp</th>\n",
       "      <th>price</th>\n",
       "      <th>payment_type</th>\n",
       "      <th>product_category_name</th>\n",
       "      <th>product_weight_g</th>\n",
       "    </tr>\n",
       "  </thead>\n",
       "  <tbody>\n",
       "    <tr>\n",
       "      <th>0</th>\n",
       "      <td>None</td>\n",
       "      <td>None</td>\n",
       "      <td>2017-09-09 00:00:00</td>\n",
       "      <td>2017-09-11 01:28:36</td>\n",
       "      <td>None</td>\n",
       "      <td>NaN</td>\n",
       "      <td>None</td>\n",
       "      <td>None</td>\n",
       "      <td>NaN</td>\n",
       "    </tr>\n",
       "    <tr>\n",
       "      <th>1</th>\n",
       "      <td>0006ec9db01a64e59a68b2c340bf65a7</td>\n",
       "      <td>99a4788cb24856965c36a24e339b6058</td>\n",
       "      <td>5d178120c29c61748ea95bac23cb8f25</td>\n",
       "      <td>delivered</td>\n",
       "      <td>2018-07-24 17:04:17</td>\n",
       "      <td>74.00</td>\n",
       "      <td>credit_card</td>\n",
       "      <td>bed_bath_table</td>\n",
       "      <td>1383.0</td>\n",
       "    </tr>\n",
       "    <tr>\n",
       "      <th>2</th>\n",
       "      <td>00119ff934e539cf26f92b9ef0cdfed8</td>\n",
       "      <td>21b1c2f67a9aafb5af0eb06c13b9dbda</td>\n",
       "      <td>7dd2e283f47deac853cf70f3b63c8d86</td>\n",
       "      <td>delivered</td>\n",
       "      <td>2017-08-06 00:42:49</td>\n",
       "      <td>219.90</td>\n",
       "      <td>credit_card</td>\n",
       "      <td>sports_leisure</td>\n",
       "      <td>9800.0</td>\n",
       "    </tr>\n",
       "    <tr>\n",
       "      <th>3</th>\n",
       "      <td>0015ebb40fb17286bea51d4607c4733c</td>\n",
       "      <td>50fd2b788dc166edd20512370dac54df</td>\n",
       "      <td>da43a556bf5c36a1104c473cff77de6c</td>\n",
       "      <td>delivered</td>\n",
       "      <td>2018-01-14 09:01:36</td>\n",
       "      <td>21.90</td>\n",
       "      <td>credit_card</td>\n",
       "      <td>electronics</td>\n",
       "      <td>150.0</td>\n",
       "    </tr>\n",
       "    <tr>\n",
       "      <th>4</th>\n",
       "      <td>0016dfedd97fc2950e388d2971d718c7</td>\n",
       "      <td>4089861a1bd4685da70bddd6b4f974f1</td>\n",
       "      <td>2c8b917c5d7dd720ebe36a5ed3b501ec</td>\n",
       "      <td>delivered</td>\n",
       "      <td>2017-04-28 19:54:40</td>\n",
       "      <td>49.75</td>\n",
       "      <td>credit_card</td>\n",
       "      <td>garden_tools</td>\n",
       "      <td>1500.0</td>\n",
       "    </tr>\n",
       "    <tr>\n",
       "      <th>...</th>\n",
       "      <td>...</td>\n",
       "      <td>...</td>\n",
       "      <td>...</td>\n",
       "      <td>...</td>\n",
       "      <td>...</td>\n",
       "      <td>...</td>\n",
       "      <td>...</td>\n",
       "      <td>...</td>\n",
       "      <td>...</td>\n",
       "    </tr>\n",
       "    <tr>\n",
       "      <th>10779</th>\n",
       "      <td>ffdee14e5cab83563d890d93e1d16f74</td>\n",
       "      <td>44a34214a57dc373dcd80f54c919d006</td>\n",
       "      <td>31a8f6d679715fe19892aef333993c5b</td>\n",
       "      <td>delivered</td>\n",
       "      <td>2017-04-29 09:57:46</td>\n",
       "      <td>29.50</td>\n",
       "      <td>boleto</td>\n",
       "      <td>sports_leisure</td>\n",
       "      <td>350.0</td>\n",
       "    </tr>\n",
       "    <tr>\n",
       "      <th>10780</th>\n",
       "      <td>ffea79d8c5fecc22cbff0c54eda9b65c</td>\n",
       "      <td>ea44caac707f7f1325182a538007f838</td>\n",
       "      <td>bbef00095c712ca0e62584d68cb9fdfa</td>\n",
       "      <td>delivered</td>\n",
       "      <td>2017-09-03 17:18:58</td>\n",
       "      <td>50.00</td>\n",
       "      <td>boleto</td>\n",
       "      <td>baby</td>\n",
       "      <td>6600.0</td>\n",
       "    </tr>\n",
       "    <tr>\n",
       "      <th>10781</th>\n",
       "      <td>ffebd80e3291e811c308365936897efd</td>\n",
       "      <td>4cc4d02efc8f249c13355147fb44e34d</td>\n",
       "      <td>050309b91cc5e04e68841938e7984aaf</td>\n",
       "      <td>delivered</td>\n",
       "      <td>2018-07-13 20:04:05</td>\n",
       "      <td>129.90</td>\n",
       "      <td>credit_card</td>\n",
       "      <td>garden_tools</td>\n",
       "      <td>6700.0</td>\n",
       "    </tr>\n",
       "    <tr>\n",
       "      <th>10782</th>\n",
       "      <td>ffecd5a79a0084f6a592288c67e3c298</td>\n",
       "      <td>50fd2b788dc166edd20512370dac54df</td>\n",
       "      <td>8afa5a415d65a08e3a68b1d7f9ddd8a5</td>\n",
       "      <td>delivered</td>\n",
       "      <td>2018-02-27 20:00:25</td>\n",
       "      <td>21.90</td>\n",
       "      <td>credit_card</td>\n",
       "      <td>electronics</td>\n",
       "      <td>150.0</td>\n",
       "    </tr>\n",
       "    <tr>\n",
       "      <th>10783</th>\n",
       "      <td>fff2cdc825f9fc0ba3c04227cfa02303</td>\n",
       "      <td>044f05bc9de36e8a693a83e4bc79dd0d</td>\n",
       "      <td>9c18c06ccf9b2fafcc5f956c5b145212</td>\n",
       "      <td>delivered</td>\n",
       "      <td>2018-02-02 10:28:41</td>\n",
       "      <td>24.99</td>\n",
       "      <td>boleto</td>\n",
       "      <td>telephony</td>\n",
       "      <td>300.0</td>\n",
       "    </tr>\n",
       "  </tbody>\n",
       "</table>\n",
       "<p>10784 rows × 9 columns</p>\n",
       "</div>"
      ],
      "text/plain": [
       "                               order_id  ... product_weight_g\n",
       "0                                  None  ...              NaN\n",
       "1      0006ec9db01a64e59a68b2c340bf65a7  ...           1383.0\n",
       "2      00119ff934e539cf26f92b9ef0cdfed8  ...           9800.0\n",
       "3      0015ebb40fb17286bea51d4607c4733c  ...            150.0\n",
       "4      0016dfedd97fc2950e388d2971d718c7  ...           1500.0\n",
       "...                                 ...  ...              ...\n",
       "10779  ffdee14e5cab83563d890d93e1d16f74  ...            350.0\n",
       "10780  ffea79d8c5fecc22cbff0c54eda9b65c  ...           6600.0\n",
       "10781  ffebd80e3291e811c308365936897efd  ...           6700.0\n",
       "10782  ffecd5a79a0084f6a592288c67e3c298  ...            150.0\n",
       "10783  fff2cdc825f9fc0ba3c04227cfa02303  ...            300.0\n",
       "\n",
       "[10784 rows x 9 columns]"
      ]
     },
     "execution_count": 264,
     "metadata": {},
     "output_type": "execute_result"
    }
   ],
   "source": [
    "# mendapatkan data order dari tiap\n",
    "df1 = pd.read_sql_query(\"\"\"\n",
    "\n",
    "                  SELECT \n",
    "                      Orders.order_id,\n",
    "                      Orders.product_id,\n",
    "                      Orders.customer_id, \n",
    "                      Orders.order_status,\n",
    "                      Orders.order_purchase_timestamp,\n",
    "                      Orders.price,\n",
    "                      Orders.payment_type,\n",
    "                        Products.product_category_name,\n",
    "                        Products.product_weight_g         \n",
    "                  FROM Orders\n",
    "                  LEFT JOIN Products ON Orders.product_id = Products.product_id\n",
    "                  GROUP BY 1,2\n",
    "                  \"\"\", conn)\n",
    "df1"
   ]
  },
  {
   "cell_type": "code",
   "execution_count": 265,
   "metadata": {
    "colab": {
     "base_uri": "https://localhost:8080/",
     "height": 424
    },
    "id": "45PBSVRZs_aJ",
    "outputId": "9d072a70-cda6-46ab-9cee-f6768062a038"
   },
   "outputs": [
    {
     "data": {
      "text/html": [
       "<div>\n",
       "<style scoped>\n",
       "    .dataframe tbody tr th:only-of-type {\n",
       "        vertical-align: middle;\n",
       "    }\n",
       "\n",
       "    .dataframe tbody tr th {\n",
       "        vertical-align: top;\n",
       "    }\n",
       "\n",
       "    .dataframe thead th {\n",
       "        text-align: right;\n",
       "    }\n",
       "</style>\n",
       "<table border=\"1\" class=\"dataframe\">\n",
       "  <thead>\n",
       "    <tr style=\"text-align: right;\">\n",
       "      <th></th>\n",
       "      <th>customer_id</th>\n",
       "      <th>customer_city</th>\n",
       "    </tr>\n",
       "  </thead>\n",
       "  <tbody>\n",
       "    <tr>\n",
       "      <th>0</th>\n",
       "      <td>3df704f53d3f1d4818840b34ec672a9f</td>\n",
       "      <td>sao paulo</td>\n",
       "    </tr>\n",
       "    <tr>\n",
       "      <th>1</th>\n",
       "      <td>f5afca14dfa9dc64251cf2b45c54c363</td>\n",
       "      <td>duque de caxias</td>\n",
       "    </tr>\n",
       "    <tr>\n",
       "      <th>2</th>\n",
       "      <td>be8c14c16a4d47194ccdfe10f1fc5b1a</td>\n",
       "      <td>cosmopolis</td>\n",
       "    </tr>\n",
       "    <tr>\n",
       "      <th>3</th>\n",
       "      <td>388025bec8128ff20ec1a316ed4dcf02</td>\n",
       "      <td>cascavel</td>\n",
       "    </tr>\n",
       "    <tr>\n",
       "      <th>4</th>\n",
       "      <td>05e996469a2bf9559c7122b87e156724</td>\n",
       "      <td>portao</td>\n",
       "    </tr>\n",
       "    <tr>\n",
       "      <th>...</th>\n",
       "      <td>...</td>\n",
       "      <td>...</td>\n",
       "    </tr>\n",
       "    <tr>\n",
       "      <th>10717</th>\n",
       "      <td>ce5efd1b1d8a2fa290a871edd5c26cd6</td>\n",
       "      <td>sao vicente</td>\n",
       "    </tr>\n",
       "    <tr>\n",
       "      <th>10718</th>\n",
       "      <td>a046c690e0564ffde0ce611b5eee2c30</td>\n",
       "      <td>bom despacho</td>\n",
       "    </tr>\n",
       "    <tr>\n",
       "      <th>10719</th>\n",
       "      <td>f00bb12620b7b232233cace1b229db18</td>\n",
       "      <td>juiz de fora</td>\n",
       "    </tr>\n",
       "    <tr>\n",
       "      <th>10720</th>\n",
       "      <td>da2124f134f5dfbce9d06f29bdb6c308</td>\n",
       "      <td>cuiaba</td>\n",
       "    </tr>\n",
       "    <tr>\n",
       "      <th>10721</th>\n",
       "      <td>b331b74b18dc79bcdf6532d51e1637c1</td>\n",
       "      <td>japuiba</td>\n",
       "    </tr>\n",
       "  </tbody>\n",
       "</table>\n",
       "<p>10722 rows × 2 columns</p>\n",
       "</div>"
      ],
      "text/plain": [
       "                            customer_id    customer_city\n",
       "0      3df704f53d3f1d4818840b34ec672a9f        sao paulo\n",
       "1      f5afca14dfa9dc64251cf2b45c54c363  duque de caxias\n",
       "2      be8c14c16a4d47194ccdfe10f1fc5b1a       cosmopolis\n",
       "3      388025bec8128ff20ec1a316ed4dcf02         cascavel\n",
       "4      05e996469a2bf9559c7122b87e156724           portao\n",
       "...                                 ...              ...\n",
       "10717  ce5efd1b1d8a2fa290a871edd5c26cd6      sao vicente\n",
       "10718  a046c690e0564ffde0ce611b5eee2c30     bom despacho\n",
       "10719  f00bb12620b7b232233cace1b229db18     juiz de fora\n",
       "10720  da2124f134f5dfbce9d06f29bdb6c308           cuiaba\n",
       "10721  b331b74b18dc79bcdf6532d51e1637c1          japuiba\n",
       "\n",
       "[10722 rows x 2 columns]"
      ]
     },
     "execution_count": 265,
     "metadata": {},
     "output_type": "execute_result"
    }
   ],
   "source": [
    "# mendapatkan data total order dari seluruh custoomer\n",
    "df2 = pd.read_sql_query(\"\"\"\n",
    "                  SELECT \n",
    "                      Customers.customer_id,\n",
    "                      Customers.customer_city\n",
    "                  FROM Customers\n",
    "                  \"\"\", conn)\n",
    "df2"
   ]
  },
  {
   "cell_type": "code",
   "execution_count": 266,
   "metadata": {
    "colab": {
     "base_uri": "https://localhost:8080/",
     "height": 424
    },
    "id": "uf3KCck98Lrd",
    "outputId": "0b33167c-5cbb-4e23-a9c3-67637877c05b"
   },
   "outputs": [
    {
     "data": {
      "text/html": [
       "<div>\n",
       "<style scoped>\n",
       "    .dataframe tbody tr th:only-of-type {\n",
       "        vertical-align: middle;\n",
       "    }\n",
       "\n",
       "    .dataframe tbody tr th {\n",
       "        vertical-align: top;\n",
       "    }\n",
       "\n",
       "    .dataframe thead th {\n",
       "        text-align: right;\n",
       "    }\n",
       "</style>\n",
       "<table border=\"1\" class=\"dataframe\">\n",
       "  <thead>\n",
       "    <tr style=\"text-align: right;\">\n",
       "      <th></th>\n",
       "      <th>seller_id</th>\n",
       "      <th>seller_city</th>\n",
       "      <th>seller_state</th>\n",
       "      <th>seller_zip_code_prefix</th>\n",
       "      <th>geolocation_lat</th>\n",
       "      <th>geolocation_lng</th>\n",
       "    </tr>\n",
       "  </thead>\n",
       "  <tbody>\n",
       "    <tr>\n",
       "      <th>0</th>\n",
       "      <td>0015a82c2db000af6aaaf3ae2ecb0532</td>\n",
       "      <td>santo andre</td>\n",
       "      <td>SP</td>\n",
       "      <td>9080</td>\n",
       "      <td>-23.033570</td>\n",
       "      <td>-45.582235</td>\n",
       "    </tr>\n",
       "    <tr>\n",
       "      <th>1</th>\n",
       "      <td>001cca7ae9ae17fb1caed9dfb1094831</td>\n",
       "      <td>cariacica</td>\n",
       "      <td>ES</td>\n",
       "      <td>29156</td>\n",
       "      <td>-19.912800</td>\n",
       "      <td>-43.903035</td>\n",
       "    </tr>\n",
       "    <tr>\n",
       "      <th>2</th>\n",
       "      <td>001e6ad469a905060d959994f1b41e4f</td>\n",
       "      <td>sao goncalo</td>\n",
       "      <td>RJ</td>\n",
       "      <td>24754</td>\n",
       "      <td>-22.758135</td>\n",
       "      <td>-43.438347</td>\n",
       "    </tr>\n",
       "    <tr>\n",
       "      <th>3</th>\n",
       "      <td>002100f778ceb8431b7a1020ff7ab48f</td>\n",
       "      <td>franca</td>\n",
       "      <td>SP</td>\n",
       "      <td>14405</td>\n",
       "      <td>-23.492842</td>\n",
       "      <td>-47.470719</td>\n",
       "    </tr>\n",
       "    <tr>\n",
       "      <th>4</th>\n",
       "      <td>003554e2dce176b5555353e4f3555ac8</td>\n",
       "      <td>goiania</td>\n",
       "      <td>GO</td>\n",
       "      <td>74565</td>\n",
       "      <td>-14.315260</td>\n",
       "      <td>-49.150986</td>\n",
       "    </tr>\n",
       "    <tr>\n",
       "      <th>...</th>\n",
       "      <td>...</td>\n",
       "      <td>...</td>\n",
       "      <td>...</td>\n",
       "      <td>...</td>\n",
       "      <td>...</td>\n",
       "      <td>...</td>\n",
       "    </tr>\n",
       "    <tr>\n",
       "      <th>3090</th>\n",
       "      <td>ffcfefa19b08742c5d315f2791395ee5</td>\n",
       "      <td>curitiba</td>\n",
       "      <td>PR</td>\n",
       "      <td>80045</td>\n",
       "      <td>-25.569150</td>\n",
       "      <td>-49.341232</td>\n",
       "    </tr>\n",
       "    <tr>\n",
       "      <th>3091</th>\n",
       "      <td>ffdd9f82b9a447f6f8d4b91554cc7dd3</td>\n",
       "      <td>curitiba</td>\n",
       "      <td>PR</td>\n",
       "      <td>80030</td>\n",
       "      <td>-25.480987</td>\n",
       "      <td>-49.323202</td>\n",
       "    </tr>\n",
       "    <tr>\n",
       "      <th>3092</th>\n",
       "      <td>ffeee66ac5d5a62fe688b9d26f83f534</td>\n",
       "      <td>mirassol</td>\n",
       "      <td>SP</td>\n",
       "      <td>15130</td>\n",
       "      <td>-23.631532</td>\n",
       "      <td>-49.309562</td>\n",
       "    </tr>\n",
       "    <tr>\n",
       "      <th>3093</th>\n",
       "      <td>fffd5413c0700ac820c7069d66d98c89</td>\n",
       "      <td>amparo</td>\n",
       "      <td>SP</td>\n",
       "      <td>13908</td>\n",
       "      <td>-22.272633</td>\n",
       "      <td>-48.560283</td>\n",
       "    </tr>\n",
       "    <tr>\n",
       "      <th>3094</th>\n",
       "      <td>ffff564a4f9085cd26170f4732393726</td>\n",
       "      <td>campinas</td>\n",
       "      <td>SP</td>\n",
       "      <td>13070</td>\n",
       "      <td>-21.160506</td>\n",
       "      <td>-47.800041</td>\n",
       "    </tr>\n",
       "  </tbody>\n",
       "</table>\n",
       "<p>3095 rows × 6 columns</p>\n",
       "</div>"
      ],
      "text/plain": [
       "                             seller_id  ... geolocation_lng\n",
       "0     0015a82c2db000af6aaaf3ae2ecb0532  ...      -45.582235\n",
       "1     001cca7ae9ae17fb1caed9dfb1094831  ...      -43.903035\n",
       "2     001e6ad469a905060d959994f1b41e4f  ...      -43.438347\n",
       "3     002100f778ceb8431b7a1020ff7ab48f  ...      -47.470719\n",
       "4     003554e2dce176b5555353e4f3555ac8  ...      -49.150986\n",
       "...                                ...  ...             ...\n",
       "3090  ffcfefa19b08742c5d315f2791395ee5  ...      -49.341232\n",
       "3091  ffdd9f82b9a447f6f8d4b91554cc7dd3  ...      -49.323202\n",
       "3092  ffeee66ac5d5a62fe688b9d26f83f534  ...      -49.309562\n",
       "3093  fffd5413c0700ac820c7069d66d98c89  ...      -48.560283\n",
       "3094  ffff564a4f9085cd26170f4732393726  ...      -47.800041\n",
       "\n",
       "[3095 rows x 6 columns]"
      ]
     },
     "execution_count": 266,
     "metadata": {},
     "output_type": "execute_result"
    }
   ],
   "source": [
    "# mendapatkan data total order dari seluruh custoomer\n",
    "df3 = pd.read_sql_query(\"\"\"\n",
    "\n",
    "                  SELECT \n",
    "                      Sellers.seller_id, \n",
    "                      Sellers.seller_city,\n",
    "                      Sellers.seller_state,\n",
    "                      Sellers.seller_zip_code_prefix,\n",
    "                        Geolocation.geolocation_lat,\n",
    "                        Geolocation.geolocation_lng \n",
    "                  FROM Sellers\n",
    "                  LEFT JOIN Geolocation ON Sellers.seller_zip_code_prefix = Geolocation.geolocation_zip_code_prefix\n",
    "                  GROUP BY 1,2\n",
    "                  \"\"\", conn)\n",
    "df3"
   ]
  },
  {
   "cell_type": "code",
   "execution_count": 267,
   "metadata": {
    "colab": {
     "base_uri": "https://localhost:8080/",
     "height": 478
    },
    "id": "0QOtOrsyszfE",
    "outputId": "ed6e9d14-5472-4ae6-fc10-38de5e870f20"
   },
   "outputs": [
    {
     "data": {
      "text/html": [
       "<div>\n",
       "<style scoped>\n",
       "    .dataframe tbody tr th:only-of-type {\n",
       "        vertical-align: middle;\n",
       "    }\n",
       "\n",
       "    .dataframe tbody tr th {\n",
       "        vertical-align: top;\n",
       "    }\n",
       "\n",
       "    .dataframe thead th {\n",
       "        text-align: right;\n",
       "    }\n",
       "</style>\n",
       "<table border=\"1\" class=\"dataframe\">\n",
       "  <thead>\n",
       "    <tr style=\"text-align: right;\">\n",
       "      <th></th>\n",
       "      <th>order_id</th>\n",
       "      <th>product_id</th>\n",
       "      <th>customer_id</th>\n",
       "      <th>order_status</th>\n",
       "      <th>order_purchase_timestamp</th>\n",
       "      <th>price</th>\n",
       "      <th>payment_type</th>\n",
       "      <th>product_category_name</th>\n",
       "      <th>product_weight_g</th>\n",
       "      <th>customer_id</th>\n",
       "      <th>customer_city</th>\n",
       "      <th>seller_id</th>\n",
       "      <th>seller_city</th>\n",
       "      <th>seller_state</th>\n",
       "      <th>seller_zip_code_prefix</th>\n",
       "      <th>geolocation_lat</th>\n",
       "      <th>geolocation_lng</th>\n",
       "    </tr>\n",
       "  </thead>\n",
       "  <tbody>\n",
       "    <tr>\n",
       "      <th>0</th>\n",
       "      <td>None</td>\n",
       "      <td>None</td>\n",
       "      <td>2017-09-09 00:00:00</td>\n",
       "      <td>2017-09-11 01:28:36</td>\n",
       "      <td>None</td>\n",
       "      <td>NaN</td>\n",
       "      <td>None</td>\n",
       "      <td>None</td>\n",
       "      <td>NaN</td>\n",
       "      <td>3df704f53d3f1d4818840b34ec672a9f</td>\n",
       "      <td>sao paulo</td>\n",
       "      <td>0015a82c2db000af6aaaf3ae2ecb0532</td>\n",
       "      <td>santo andre</td>\n",
       "      <td>SP</td>\n",
       "      <td>9080</td>\n",
       "      <td>-23.033570</td>\n",
       "      <td>-45.582235</td>\n",
       "    </tr>\n",
       "    <tr>\n",
       "      <th>1</th>\n",
       "      <td>0006ec9db01a64e59a68b2c340bf65a7</td>\n",
       "      <td>99a4788cb24856965c36a24e339b6058</td>\n",
       "      <td>5d178120c29c61748ea95bac23cb8f25</td>\n",
       "      <td>delivered</td>\n",
       "      <td>2018-07-24 17:04:17</td>\n",
       "      <td>74.00</td>\n",
       "      <td>credit_card</td>\n",
       "      <td>bed_bath_table</td>\n",
       "      <td>1383.0</td>\n",
       "      <td>f5afca14dfa9dc64251cf2b45c54c363</td>\n",
       "      <td>duque de caxias</td>\n",
       "      <td>001cca7ae9ae17fb1caed9dfb1094831</td>\n",
       "      <td>cariacica</td>\n",
       "      <td>ES</td>\n",
       "      <td>29156</td>\n",
       "      <td>-19.912800</td>\n",
       "      <td>-43.903035</td>\n",
       "    </tr>\n",
       "    <tr>\n",
       "      <th>2</th>\n",
       "      <td>00119ff934e539cf26f92b9ef0cdfed8</td>\n",
       "      <td>21b1c2f67a9aafb5af0eb06c13b9dbda</td>\n",
       "      <td>7dd2e283f47deac853cf70f3b63c8d86</td>\n",
       "      <td>delivered</td>\n",
       "      <td>2017-08-06 00:42:49</td>\n",
       "      <td>219.90</td>\n",
       "      <td>credit_card</td>\n",
       "      <td>sports_leisure</td>\n",
       "      <td>9800.0</td>\n",
       "      <td>be8c14c16a4d47194ccdfe10f1fc5b1a</td>\n",
       "      <td>cosmopolis</td>\n",
       "      <td>001e6ad469a905060d959994f1b41e4f</td>\n",
       "      <td>sao goncalo</td>\n",
       "      <td>RJ</td>\n",
       "      <td>24754</td>\n",
       "      <td>-22.758135</td>\n",
       "      <td>-43.438347</td>\n",
       "    </tr>\n",
       "    <tr>\n",
       "      <th>3</th>\n",
       "      <td>0015ebb40fb17286bea51d4607c4733c</td>\n",
       "      <td>50fd2b788dc166edd20512370dac54df</td>\n",
       "      <td>da43a556bf5c36a1104c473cff77de6c</td>\n",
       "      <td>delivered</td>\n",
       "      <td>2018-01-14 09:01:36</td>\n",
       "      <td>21.90</td>\n",
       "      <td>credit_card</td>\n",
       "      <td>electronics</td>\n",
       "      <td>150.0</td>\n",
       "      <td>388025bec8128ff20ec1a316ed4dcf02</td>\n",
       "      <td>cascavel</td>\n",
       "      <td>002100f778ceb8431b7a1020ff7ab48f</td>\n",
       "      <td>franca</td>\n",
       "      <td>SP</td>\n",
       "      <td>14405</td>\n",
       "      <td>-23.492842</td>\n",
       "      <td>-47.470719</td>\n",
       "    </tr>\n",
       "    <tr>\n",
       "      <th>4</th>\n",
       "      <td>0016dfedd97fc2950e388d2971d718c7</td>\n",
       "      <td>4089861a1bd4685da70bddd6b4f974f1</td>\n",
       "      <td>2c8b917c5d7dd720ebe36a5ed3b501ec</td>\n",
       "      <td>delivered</td>\n",
       "      <td>2017-04-28 19:54:40</td>\n",
       "      <td>49.75</td>\n",
       "      <td>credit_card</td>\n",
       "      <td>garden_tools</td>\n",
       "      <td>1500.0</td>\n",
       "      <td>05e996469a2bf9559c7122b87e156724</td>\n",
       "      <td>portao</td>\n",
       "      <td>003554e2dce176b5555353e4f3555ac8</td>\n",
       "      <td>goiania</td>\n",
       "      <td>GO</td>\n",
       "      <td>74565</td>\n",
       "      <td>-14.315260</td>\n",
       "      <td>-49.150986</td>\n",
       "    </tr>\n",
       "    <tr>\n",
       "      <th>...</th>\n",
       "      <td>...</td>\n",
       "      <td>...</td>\n",
       "      <td>...</td>\n",
       "      <td>...</td>\n",
       "      <td>...</td>\n",
       "      <td>...</td>\n",
       "      <td>...</td>\n",
       "      <td>...</td>\n",
       "      <td>...</td>\n",
       "      <td>...</td>\n",
       "      <td>...</td>\n",
       "      <td>...</td>\n",
       "      <td>...</td>\n",
       "      <td>...</td>\n",
       "      <td>...</td>\n",
       "      <td>...</td>\n",
       "      <td>...</td>\n",
       "    </tr>\n",
       "    <tr>\n",
       "      <th>3090</th>\n",
       "      <td>486bce96008cea9cb14d0593189961da</td>\n",
       "      <td>ca5c923962558430573f83661dbe36d6</td>\n",
       "      <td>58304aef21701bf4312b0e0c34a03906</td>\n",
       "      <td>delivered</td>\n",
       "      <td>2018-01-16 22:11:14</td>\n",
       "      <td>120.00</td>\n",
       "      <td>credit_card</td>\n",
       "      <td>pet_shop</td>\n",
       "      <td>1250.0</td>\n",
       "      <td>2128111e20da14bbe224cebd51250888</td>\n",
       "      <td>paranavai</td>\n",
       "      <td>ffcfefa19b08742c5d315f2791395ee5</td>\n",
       "      <td>curitiba</td>\n",
       "      <td>PR</td>\n",
       "      <td>80045</td>\n",
       "      <td>-25.569150</td>\n",
       "      <td>-49.341232</td>\n",
       "    </tr>\n",
       "    <tr>\n",
       "      <th>3091</th>\n",
       "      <td>486ca1ee3ed5de201a5efe379082190b</td>\n",
       "      <td>e5cac955339b48ea3b9773f034623e29</td>\n",
       "      <td>c415a738f28c07a932696776d019070b</td>\n",
       "      <td>delivered</td>\n",
       "      <td>2018-03-15 15:27:43</td>\n",
       "      <td>159.90</td>\n",
       "      <td>credit_card</td>\n",
       "      <td>watches_gifts</td>\n",
       "      <td>282.0</td>\n",
       "      <td>1864828fc0be485be9870cb748d4d6a7</td>\n",
       "      <td>rio de janeiro</td>\n",
       "      <td>ffdd9f82b9a447f6f8d4b91554cc7dd3</td>\n",
       "      <td>curitiba</td>\n",
       "      <td>PR</td>\n",
       "      <td>80030</td>\n",
       "      <td>-25.480987</td>\n",
       "      <td>-49.323202</td>\n",
       "    </tr>\n",
       "    <tr>\n",
       "      <th>3092</th>\n",
       "      <td>486fed80178943ecdec90413036af979</td>\n",
       "      <td>5d66715cc928aadd0074f61332698593</td>\n",
       "      <td>18c30a4de034e640a9c6b0b08a756ae9</td>\n",
       "      <td>delivered</td>\n",
       "      <td>2018-06-12 08:23:51</td>\n",
       "      <td>19.65</td>\n",
       "      <td>voucher</td>\n",
       "      <td>electronics</td>\n",
       "      <td>150.0</td>\n",
       "      <td>26691fd4b554daeab6e92626ac575689</td>\n",
       "      <td>ourinhos</td>\n",
       "      <td>ffeee66ac5d5a62fe688b9d26f83f534</td>\n",
       "      <td>mirassol</td>\n",
       "      <td>SP</td>\n",
       "      <td>15130</td>\n",
       "      <td>-23.631532</td>\n",
       "      <td>-49.309562</td>\n",
       "    </tr>\n",
       "    <tr>\n",
       "      <th>3093</th>\n",
       "      <td>48761cfd8309604ddb00a812ae7d9473</td>\n",
       "      <td>f9421e9d9b4689dd804adbdb8c712d39</td>\n",
       "      <td>ef546a9e08a36c4b877691daccbc4304</td>\n",
       "      <td>delivered</td>\n",
       "      <td>2018-08-16 00:40:20</td>\n",
       "      <td>89.99</td>\n",
       "      <td>debit_card</td>\n",
       "      <td>housewares</td>\n",
       "      <td>6050.0</td>\n",
       "      <td>38224125387e55599f81b1c4655fb432</td>\n",
       "      <td>jundiai</td>\n",
       "      <td>fffd5413c0700ac820c7069d66d98c89</td>\n",
       "      <td>amparo</td>\n",
       "      <td>SP</td>\n",
       "      <td>13908</td>\n",
       "      <td>-22.272633</td>\n",
       "      <td>-48.560283</td>\n",
       "    </tr>\n",
       "    <tr>\n",
       "      <th>3094</th>\n",
       "      <td>48805bfedbbbfe75dabe602c05eae895</td>\n",
       "      <td>9c8d6227bbe62913ca96217005540fda</td>\n",
       "      <td>bbce69db62fbcc00884caa50b906a809</td>\n",
       "      <td>delivered</td>\n",
       "      <td>2018-08-13 14:15:32</td>\n",
       "      <td>59.90</td>\n",
       "      <td>credit_card</td>\n",
       "      <td>sports_leisure</td>\n",
       "      <td>500.0</td>\n",
       "      <td>e14b08a5e109d77846ce7d4cb8b12d6c</td>\n",
       "      <td>guarulhos</td>\n",
       "      <td>ffff564a4f9085cd26170f4732393726</td>\n",
       "      <td>campinas</td>\n",
       "      <td>SP</td>\n",
       "      <td>13070</td>\n",
       "      <td>-21.160506</td>\n",
       "      <td>-47.800041</td>\n",
       "    </tr>\n",
       "  </tbody>\n",
       "</table>\n",
       "<p>3095 rows × 17 columns</p>\n",
       "</div>"
      ],
      "text/plain": [
       "                              order_id  ... geolocation_lng\n",
       "0                                 None  ...      -45.582235\n",
       "1     0006ec9db01a64e59a68b2c340bf65a7  ...      -43.903035\n",
       "2     00119ff934e539cf26f92b9ef0cdfed8  ...      -43.438347\n",
       "3     0015ebb40fb17286bea51d4607c4733c  ...      -47.470719\n",
       "4     0016dfedd97fc2950e388d2971d718c7  ...      -49.150986\n",
       "...                                ...  ...             ...\n",
       "3090  486bce96008cea9cb14d0593189961da  ...      -49.341232\n",
       "3091  486ca1ee3ed5de201a5efe379082190b  ...      -49.323202\n",
       "3092  486fed80178943ecdec90413036af979  ...      -49.309562\n",
       "3093  48761cfd8309604ddb00a812ae7d9473  ...      -48.560283\n",
       "3094  48805bfedbbbfe75dabe602c05eae895  ...      -47.800041\n",
       "\n",
       "[3095 rows x 17 columns]"
      ]
     },
     "execution_count": 267,
     "metadata": {},
     "output_type": "execute_result"
    }
   ],
   "source": [
    "df_final = pd.concat([df1,df2,df3],axis=1, join='inner')\n",
    "df_final"
   ]
  },
  {
   "cell_type": "markdown",
   "metadata": {
    "id": "sfPq2C0mupO7"
   },
   "source": [
    "cek tipe data"
   ]
  },
  {
   "cell_type": "code",
   "execution_count": 268,
   "metadata": {
    "colab": {
     "base_uri": "https://localhost:8080/"
    },
    "id": "O0rSfJUGuYuw",
    "outputId": "b5dd7afb-d434-4b77-ab00-da96601e68f4"
   },
   "outputs": [
    {
     "data": {
      "text/plain": [
       "order_id                     object\n",
       "product_id                   object\n",
       "customer_id                  object\n",
       "order_status                 object\n",
       "order_purchase_timestamp     object\n",
       "price                       float64\n",
       "payment_type                 object\n",
       "product_category_name        object\n",
       "product_weight_g            float64\n",
       "customer_id                  object\n",
       "customer_city                object\n",
       "seller_id                    object\n",
       "seller_city                  object\n",
       "seller_state                 object\n",
       "seller_zip_code_prefix        int64\n",
       "geolocation_lat             float64\n",
       "geolocation_lng             float64\n",
       "dtype: object"
      ]
     },
     "execution_count": 268,
     "metadata": {},
     "output_type": "execute_result"
    }
   ],
   "source": [
    "df_final.dtypes"
   ]
  },
  {
   "cell_type": "code",
   "execution_count": 269,
   "metadata": {
    "id": "qmyQjcF8u1ZM"
   },
   "outputs": [],
   "source": [
    "df_final['order_purchase_timestamp'] = pd.to_datetime(df_final['order_purchase_timestamp'])\n"
   ]
  },
  {
   "cell_type": "code",
   "execution_count": 270,
   "metadata": {
    "colab": {
     "base_uri": "https://localhost:8080/"
    },
    "id": "59-f23vJvGUU",
    "outputId": "0fcd6b50-34e0-4a7a-c545-3bbf1d0faf39"
   },
   "outputs": [
    {
     "data": {
      "text/plain": [
       "order_id                            object\n",
       "product_id                          object\n",
       "customer_id                         object\n",
       "order_status                        object\n",
       "order_purchase_timestamp    datetime64[ns]\n",
       "price                              float64\n",
       "payment_type                        object\n",
       "product_category_name               object\n",
       "product_weight_g                   float64\n",
       "customer_id                         object\n",
       "customer_city                       object\n",
       "seller_id                           object\n",
       "seller_city                         object\n",
       "seller_state                        object\n",
       "seller_zip_code_prefix               int64\n",
       "geolocation_lat                    float64\n",
       "geolocation_lng                    float64\n",
       "dtype: object"
      ]
     },
     "execution_count": 270,
     "metadata": {},
     "output_type": "execute_result"
    }
   ],
   "source": [
    "df_final.dtypes"
   ]
  },
  {
   "cell_type": "markdown",
   "metadata": {
    "id": "tFhOjVwbvkCu"
   },
   "source": [
    "## PROBLEM STATEMENT\n",
    "\n",
    "---\n"
   ]
  },
  {
   "cell_type": "markdown",
   "metadata": {
    "id": "PrZIWRJZvnyN"
   },
   "source": [
    "1. Bagaimana persebaran jenis pembayaran yang dilakukan oleh customer? (order-payment type, customer-customer_id)\n",
    "2. Bagaimana persebaran asal wilayah customer?\n",
    "3. Produk apa yang sering dicari oleh customer? (product- product_category_name, customer-customer_id) "
   ]
  },
  {
   "cell_type": "markdown",
   "metadata": {
    "id": "ClQ-r64Hvqbf"
   },
   "source": [
    "## DATA CLEANSING\n",
    "\n",
    "---\n"
   ]
  },
  {
   "cell_type": "code",
   "execution_count": 271,
   "metadata": {
    "colab": {
     "base_uri": "https://localhost:8080/"
    },
    "id": "XWxnRuZGv17g",
    "outputId": "4863327b-c90c-4143-d78a-4bfbd4fdba82"
   },
   "outputs": [
    {
     "name": "stdout",
     "output_type": "stream",
     "text": [
      "<class 'pandas.core.frame.DataFrame'>\n",
      "RangeIndex: 3095 entries, 0 to 3094\n",
      "Data columns (total 17 columns):\n",
      " #   Column                    Non-Null Count  Dtype         \n",
      "---  ------                    --------------  -----         \n",
      " 0   order_id                  3094 non-null   object        \n",
      " 1   product_id                3067 non-null   object        \n",
      " 2   customer_id               3095 non-null   object        \n",
      " 3   order_status              3095 non-null   object        \n",
      " 4   order_purchase_timestamp  3094 non-null   datetime64[ns]\n",
      " 5   price                     3067 non-null   float64       \n",
      " 6   payment_type              3094 non-null   object        \n",
      " 7   product_category_name     3022 non-null   object        \n",
      " 8   product_weight_g          3067 non-null   float64       \n",
      " 9   customer_id               3095 non-null   object        \n",
      " 10  customer_city             3095 non-null   object        \n",
      " 11  seller_id                 3095 non-null   object        \n",
      " 12  seller_city               3095 non-null   object        \n",
      " 13  seller_state              3095 non-null   object        \n",
      " 14  seller_zip_code_prefix    3095 non-null   int64         \n",
      " 15  geolocation_lat           3095 non-null   float64       \n",
      " 16  geolocation_lng           3095 non-null   float64       \n",
      "dtypes: datetime64[ns](1), float64(4), int64(1), object(11)\n",
      "memory usage: 411.2+ KB\n"
     ]
    }
   ],
   "source": [
    "df_final.info()"
   ]
  },
  {
   "cell_type": "code",
   "execution_count": 272,
   "metadata": {
    "colab": {
     "base_uri": "https://localhost:8080/"
    },
    "id": "tIrZu6Qbv98X",
    "outputId": "b071df6c-3083-4f41-a6dd-9f5dc176139f"
   },
   "outputs": [
    {
     "data": {
      "text/plain": [
       "order_id                     1\n",
       "product_id                  28\n",
       "customer_id                  0\n",
       "order_status                 0\n",
       "order_purchase_timestamp     1\n",
       "price                       28\n",
       "payment_type                 1\n",
       "product_category_name       73\n",
       "product_weight_g            28\n",
       "customer_id                  0\n",
       "customer_city                0\n",
       "seller_id                    0\n",
       "seller_city                  0\n",
       "seller_state                 0\n",
       "seller_zip_code_prefix       0\n",
       "geolocation_lat              0\n",
       "geolocation_lng              0\n",
       "dtype: int64"
      ]
     },
     "execution_count": 272,
     "metadata": {},
     "output_type": "execute_result"
    }
   ],
   "source": [
    "# Mengecek berapa jumlah null value df pada masing masing kolom. \n",
    "jumlah_missing = pd.isnull(df_final).sum()\n",
    "jumlah_missing"
   ]
  },
  {
   "cell_type": "code",
   "execution_count": 273,
   "metadata": {
    "colab": {
     "base_uri": "https://localhost:8080/"
    },
    "id": "nCnVQvalwGQr",
    "outputId": "85d5609c-403d-4756-cd9f-63422758a6ae"
   },
   "outputs": [
    {
     "data": {
      "text/plain": [
       "order_id                    0.000323\n",
       "product_id                  0.009047\n",
       "customer_id                 0.000000\n",
       "order_status                0.000000\n",
       "order_purchase_timestamp    0.000323\n",
       "price                       0.009047\n",
       "payment_type                0.000323\n",
       "product_category_name       0.023586\n",
       "product_weight_g            0.009047\n",
       "customer_id                 0.000000\n",
       "customer_city               0.000000\n",
       "seller_id                   0.000000\n",
       "seller_city                 0.000000\n",
       "seller_state                0.000000\n",
       "seller_zip_code_prefix      0.000000\n",
       "geolocation_lat             0.000000\n",
       "geolocation_lng             0.000000\n",
       "dtype: float64"
      ]
     },
     "execution_count": 273,
     "metadata": {},
     "output_type": "execute_result"
    }
   ],
   "source": [
    "# menghitung ratio missing value\n",
    "rasio = jumlah_missing.div(len(df_final))\n",
    "rasio"
   ]
  },
  {
   "cell_type": "code",
   "execution_count": 274,
   "metadata": {
    "colab": {
     "base_uri": "https://localhost:8080/"
    },
    "id": "xEN5KsE3wP2T",
    "outputId": "3f620616-6649-458a-fedf-7ce89fc3558e"
   },
   "outputs": [
    {
     "data": {
      "text/plain": [
       "count    3067.000000\n",
       "mean      118.218839\n",
       "std       185.157109\n",
       "min         3.900000\n",
       "25%        39.900000\n",
       "50%        74.000000\n",
       "75%       129.930000\n",
       "max      4399.870000\n",
       "Name: price, dtype: float64"
      ]
     },
     "execution_count": 274,
     "metadata": {},
     "output_type": "execute_result"
    }
   ],
   "source": [
    "df_final['price'].describe()"
   ]
  },
  {
   "cell_type": "code",
   "execution_count": 275,
   "metadata": {
    "colab": {
     "base_uri": "https://localhost:8080/",
     "height": 348
    },
    "id": "ZOOOd_IxwaFj",
    "outputId": "a5035f64-3c9c-497d-9ef7-cc3cd0afa34a"
   },
   "outputs": [
    {
     "name": "stderr",
     "output_type": "stream",
     "text": [
      "/usr/local/lib/python3.7/dist-packages/pandas/core/series.py:4536: SettingWithCopyWarning: \n",
      "A value is trying to be set on a copy of a slice from a DataFrame\n",
      "\n",
      "See the caveats in the documentation: https://pandas.pydata.org/pandas-docs/stable/user_guide/indexing.html#returning-a-view-versus-a-copy\n",
      "  downcast=downcast,\n"
     ]
    },
    {
     "data": {
      "text/html": [
       "<div>\n",
       "<style scoped>\n",
       "    .dataframe tbody tr th:only-of-type {\n",
       "        vertical-align: middle;\n",
       "    }\n",
       "\n",
       "    .dataframe tbody tr th {\n",
       "        vertical-align: top;\n",
       "    }\n",
       "\n",
       "    .dataframe thead th {\n",
       "        text-align: right;\n",
       "    }\n",
       "</style>\n",
       "<table border=\"1\" class=\"dataframe\">\n",
       "  <thead>\n",
       "    <tr style=\"text-align: right;\">\n",
       "      <th></th>\n",
       "      <th>order_id</th>\n",
       "      <th>product_id</th>\n",
       "      <th>customer_id</th>\n",
       "      <th>order_status</th>\n",
       "      <th>order_purchase_timestamp</th>\n",
       "      <th>price</th>\n",
       "      <th>payment_type</th>\n",
       "      <th>product_category_name</th>\n",
       "      <th>product_weight_g</th>\n",
       "      <th>customer_id</th>\n",
       "      <th>customer_city</th>\n",
       "      <th>seller_id</th>\n",
       "      <th>seller_city</th>\n",
       "      <th>seller_state</th>\n",
       "      <th>seller_zip_code_prefix</th>\n",
       "      <th>geolocation_lat</th>\n",
       "      <th>geolocation_lng</th>\n",
       "    </tr>\n",
       "  </thead>\n",
       "  <tbody>\n",
       "    <tr>\n",
       "      <th>0</th>\n",
       "      <td>None</td>\n",
       "      <td>None</td>\n",
       "      <td>2017-09-09 00:00:00</td>\n",
       "      <td>2017-09-11 01:28:36</td>\n",
       "      <td>NaT</td>\n",
       "      <td>NaN</td>\n",
       "      <td>None</td>\n",
       "      <td>None</td>\n",
       "      <td>NaN</td>\n",
       "      <td>3df704f53d3f1d4818840b34ec672a9f</td>\n",
       "      <td>sao paulo</td>\n",
       "      <td>0015a82c2db000af6aaaf3ae2ecb0532</td>\n",
       "      <td>santo andre</td>\n",
       "      <td>SP</td>\n",
       "      <td>9080</td>\n",
       "      <td>-23.033570</td>\n",
       "      <td>-45.582235</td>\n",
       "    </tr>\n",
       "    <tr>\n",
       "      <th>1</th>\n",
       "      <td>0006ec9db01a64e59a68b2c340bf65a7</td>\n",
       "      <td>99a4788cb24856965c36a24e339b6058</td>\n",
       "      <td>5d178120c29c61748ea95bac23cb8f25</td>\n",
       "      <td>delivered</td>\n",
       "      <td>2018-07-24 17:04:17</td>\n",
       "      <td>74.00</td>\n",
       "      <td>credit_card</td>\n",
       "      <td>bed_bath_table</td>\n",
       "      <td>1383.0</td>\n",
       "      <td>f5afca14dfa9dc64251cf2b45c54c363</td>\n",
       "      <td>duque de caxias</td>\n",
       "      <td>001cca7ae9ae17fb1caed9dfb1094831</td>\n",
       "      <td>cariacica</td>\n",
       "      <td>ES</td>\n",
       "      <td>29156</td>\n",
       "      <td>-19.912800</td>\n",
       "      <td>-43.903035</td>\n",
       "    </tr>\n",
       "    <tr>\n",
       "      <th>2</th>\n",
       "      <td>00119ff934e539cf26f92b9ef0cdfed8</td>\n",
       "      <td>21b1c2f67a9aafb5af0eb06c13b9dbda</td>\n",
       "      <td>7dd2e283f47deac853cf70f3b63c8d86</td>\n",
       "      <td>delivered</td>\n",
       "      <td>2017-08-06 00:42:49</td>\n",
       "      <td>219.90</td>\n",
       "      <td>credit_card</td>\n",
       "      <td>sports_leisure</td>\n",
       "      <td>9800.0</td>\n",
       "      <td>be8c14c16a4d47194ccdfe10f1fc5b1a</td>\n",
       "      <td>cosmopolis</td>\n",
       "      <td>001e6ad469a905060d959994f1b41e4f</td>\n",
       "      <td>sao goncalo</td>\n",
       "      <td>RJ</td>\n",
       "      <td>24754</td>\n",
       "      <td>-22.758135</td>\n",
       "      <td>-43.438347</td>\n",
       "    </tr>\n",
       "    <tr>\n",
       "      <th>3</th>\n",
       "      <td>0015ebb40fb17286bea51d4607c4733c</td>\n",
       "      <td>50fd2b788dc166edd20512370dac54df</td>\n",
       "      <td>da43a556bf5c36a1104c473cff77de6c</td>\n",
       "      <td>delivered</td>\n",
       "      <td>2018-01-14 09:01:36</td>\n",
       "      <td>21.90</td>\n",
       "      <td>credit_card</td>\n",
       "      <td>electronics</td>\n",
       "      <td>150.0</td>\n",
       "      <td>388025bec8128ff20ec1a316ed4dcf02</td>\n",
       "      <td>cascavel</td>\n",
       "      <td>002100f778ceb8431b7a1020ff7ab48f</td>\n",
       "      <td>franca</td>\n",
       "      <td>SP</td>\n",
       "      <td>14405</td>\n",
       "      <td>-23.492842</td>\n",
       "      <td>-47.470719</td>\n",
       "    </tr>\n",
       "    <tr>\n",
       "      <th>4</th>\n",
       "      <td>0016dfedd97fc2950e388d2971d718c7</td>\n",
       "      <td>4089861a1bd4685da70bddd6b4f974f1</td>\n",
       "      <td>2c8b917c5d7dd720ebe36a5ed3b501ec</td>\n",
       "      <td>delivered</td>\n",
       "      <td>2017-04-28 19:54:40</td>\n",
       "      <td>49.75</td>\n",
       "      <td>credit_card</td>\n",
       "      <td>garden_tools</td>\n",
       "      <td>1500.0</td>\n",
       "      <td>05e996469a2bf9559c7122b87e156724</td>\n",
       "      <td>portao</td>\n",
       "      <td>003554e2dce176b5555353e4f3555ac8</td>\n",
       "      <td>goiania</td>\n",
       "      <td>GO</td>\n",
       "      <td>74565</td>\n",
       "      <td>-14.315260</td>\n",
       "      <td>-49.150986</td>\n",
       "    </tr>\n",
       "  </tbody>\n",
       "</table>\n",
       "</div>"
      ],
      "text/plain": [
       "                           order_id  ... geolocation_lng\n",
       "0                              None  ...      -45.582235\n",
       "1  0006ec9db01a64e59a68b2c340bf65a7  ...      -43.903035\n",
       "2  00119ff934e539cf26f92b9ef0cdfed8  ...      -43.438347\n",
       "3  0015ebb40fb17286bea51d4607c4733c  ...      -47.470719\n",
       "4  0016dfedd97fc2950e388d2971d718c7  ...      -49.150986\n",
       "\n",
       "[5 rows x 17 columns]"
      ]
     },
     "execution_count": 275,
     "metadata": {},
     "output_type": "execute_result"
    }
   ],
   "source": [
    "# Mengubah NaNs dengan nilai Mean & modus\n",
    "df_final['order_id'].fillna(str(df_final['order_id'].mode()), inplace=True)\n",
    "df_final['product_id'].fillna(str(df_final['product_id'].mode()), inplace=True)\n",
    "df_final['price'].fillna(float(df_final['price'].median()), inplace=True)\n",
    "df_final['seller_id'].fillna(str(df_final['seller_id'].mode()), inplace=True)\n",
    "df_final['payment_type'].fillna(str(df_final['payment_type'].mode()), inplace=True)\n",
    "df_final['product_category_name'].fillna(str(df_final['product_category_name'].mode()), inplace=True)\n",
    "df_final['product_weight_g'].fillna(float(df_final['product_weight_g'].median()), inplace=True)\n",
    "df_final.head()"
   ]
  },
  {
   "cell_type": "code",
   "execution_count": 276,
   "metadata": {
    "colab": {
     "base_uri": "https://localhost:8080/"
    },
    "id": "_SIwAqt5xZ5V",
    "outputId": "c8e58dbb-ce99-4301-a25b-cfca33a43d45"
   },
   "outputs": [
    {
     "data": {
      "text/plain": [
       "order_id                     1\n",
       "product_id                  28\n",
       "customer_id                  0\n",
       "order_status                 0\n",
       "order_purchase_timestamp     1\n",
       "price                       28\n",
       "payment_type                 1\n",
       "product_category_name       73\n",
       "product_weight_g            28\n",
       "customer_id                  0\n",
       "customer_city                0\n",
       "seller_id                    0\n",
       "seller_city                  0\n",
       "seller_state                 0\n",
       "seller_zip_code_prefix       0\n",
       "geolocation_lat              0\n",
       "geolocation_lng              0\n",
       "dtype: int64"
      ]
     },
     "execution_count": 276,
     "metadata": {},
     "output_type": "execute_result"
    }
   ],
   "source": [
    "df_final.isnull().sum()"
   ]
  },
  {
   "cell_type": "code",
   "execution_count": 277,
   "metadata": {
    "id": "-Bj4LKv7yPuh"
   },
   "outputs": [],
   "source": [
    "# Menghapus missing value dengan drop baris yang missing\n",
    "df_final = df_final.dropna(axis=0, how=\"any\")"
   ]
  },
  {
   "cell_type": "code",
   "execution_count": 278,
   "metadata": {
    "colab": {
     "base_uri": "https://localhost:8080/",
     "height": 1000
    },
    "id": "2G9t8A6jyemX",
    "outputId": "7955f864-f8b5-4d69-cc49-49fe2801afed"
   },
   "outputs": [
    {
     "data": {
      "text/html": [
       "<div>\n",
       "<style scoped>\n",
       "    .dataframe tbody tr th:only-of-type {\n",
       "        vertical-align: middle;\n",
       "    }\n",
       "\n",
       "    .dataframe tbody tr th {\n",
       "        vertical-align: top;\n",
       "    }\n",
       "\n",
       "    .dataframe thead th {\n",
       "        text-align: right;\n",
       "    }\n",
       "</style>\n",
       "<table border=\"1\" class=\"dataframe\">\n",
       "  <thead>\n",
       "    <tr style=\"text-align: right;\">\n",
       "      <th></th>\n",
       "      <th>order_id</th>\n",
       "      <th>product_id</th>\n",
       "      <th>customer_id</th>\n",
       "      <th>order_status</th>\n",
       "      <th>order_purchase_timestamp</th>\n",
       "      <th>price</th>\n",
       "      <th>payment_type</th>\n",
       "      <th>product_category_name</th>\n",
       "      <th>product_weight_g</th>\n",
       "      <th>customer_id</th>\n",
       "      <th>customer_city</th>\n",
       "      <th>seller_id</th>\n",
       "      <th>seller_city</th>\n",
       "      <th>seller_state</th>\n",
       "      <th>seller_zip_code_prefix</th>\n",
       "      <th>geolocation_lat</th>\n",
       "      <th>geolocation_lng</th>\n",
       "    </tr>\n",
       "  </thead>\n",
       "  <tbody>\n",
       "    <tr>\n",
       "      <th>586</th>\n",
       "      <td>0d0b7c65e71700ed5fe8ae8d2baac37b</td>\n",
       "      <td>01ff1ff8aa5dec93e9938b989393a4ca</td>\n",
       "      <td>ca1acfe5e122fab31e4609bbfd711b67</td>\n",
       "      <td>delivered</td>\n",
       "      <td>2018-02-04 22:14:40</td>\n",
       "      <td>53.90</td>\n",
       "      <td>credit_card</td>\n",
       "      <td>perfumery</td>\n",
       "      <td>350.0</td>\n",
       "      <td>53f9dd88885b2ae949d68db6810f64f9</td>\n",
       "      <td>porto alegre</td>\n",
       "      <td>31e60bf8d103ce47932a85f5562deb16</td>\n",
       "      <td>goiania</td>\n",
       "      <td>GO</td>\n",
       "      <td>74590</td>\n",
       "      <td>-14.527289</td>\n",
       "      <td>-49.150390</td>\n",
       "    </tr>\n",
       "    <tr>\n",
       "      <th>587</th>\n",
       "      <td>0d0b7c65e71700ed5fe8ae8d2baac37b</td>\n",
       "      <td>c0205b35b5e0f162b0dcc48572223b72</td>\n",
       "      <td>ca1acfe5e122fab31e4609bbfd711b67</td>\n",
       "      <td>delivered</td>\n",
       "      <td>2018-02-04 22:14:40</td>\n",
       "      <td>39.00</td>\n",
       "      <td>credit_card</td>\n",
       "      <td>perfumery</td>\n",
       "      <td>400.0</td>\n",
       "      <td>9a7a96ae72427d119a20b935bb0cdc1b</td>\n",
       "      <td>aracaju</td>\n",
       "      <td>31eec405c9bb71dec8e2629a92e764fa</td>\n",
       "      <td>cachoeiro de itapemirim</td>\n",
       "      <td>ES</td>\n",
       "      <td>29300</td>\n",
       "      <td>-19.969502</td>\n",
       "      <td>-43.966997</td>\n",
       "    </tr>\n",
       "    <tr>\n",
       "      <th>611</th>\n",
       "      <td>0dde32a7d38a8fd9a7e5b383271a5eea</td>\n",
       "      <td>50fd2b788dc166edd20512370dac54df</td>\n",
       "      <td>14be3a39e6f9ac5eb3d4047b0e10c02a</td>\n",
       "      <td>delivered</td>\n",
       "      <td>2018-01-22 18:47:25</td>\n",
       "      <td>21.90</td>\n",
       "      <td>credit_card</td>\n",
       "      <td>electronics</td>\n",
       "      <td>150.0</td>\n",
       "      <td>a63ec0e33508ff6ddf030bbeb647f7f0</td>\n",
       "      <td>ubaira</td>\n",
       "      <td>33c51922b6e3c16b24a8f28e5833c99d</td>\n",
       "      <td>londrina</td>\n",
       "      <td>PR</td>\n",
       "      <td>86010</td>\n",
       "      <td>-23.430669</td>\n",
       "      <td>-51.934786</td>\n",
       "    </tr>\n",
       "    <tr>\n",
       "      <th>612</th>\n",
       "      <td>0dde32a7d38a8fd9a7e5b383271a5eea</td>\n",
       "      <td>566a4f2c4385f36d15c00dfcaae132d1</td>\n",
       "      <td>14be3a39e6f9ac5eb3d4047b0e10c02a</td>\n",
       "      <td>delivered</td>\n",
       "      <td>2018-01-22 18:47:25</td>\n",
       "      <td>21.90</td>\n",
       "      <td>credit_card</td>\n",
       "      <td>electronics</td>\n",
       "      <td>150.0</td>\n",
       "      <td>0297d4246fd48c7ed31b81c7f99776eb</td>\n",
       "      <td>limoeiro</td>\n",
       "      <td>33cbbec1e7e1044aaf11d152172c776f</td>\n",
       "      <td>bento goncalves</td>\n",
       "      <td>RS</td>\n",
       "      <td>95705</td>\n",
       "      <td>-32.039972</td>\n",
       "      <td>-52.101489</td>\n",
       "    </tr>\n",
       "    <tr>\n",
       "      <th>662</th>\n",
       "      <td>0f14db1abb2772e95d78a72c30d69678</td>\n",
       "      <td>812f428f6757ab16c46cffc68f2e90c5</td>\n",
       "      <td>3563b65918969aa4770325856ec0c256</td>\n",
       "      <td>delivered</td>\n",
       "      <td>2018-04-11 02:48:15</td>\n",
       "      <td>59.80</td>\n",
       "      <td>credit_card</td>\n",
       "      <td>furniture_decor</td>\n",
       "      <td>600.0</td>\n",
       "      <td>453319763d53187bead0d2aa6575ef15</td>\n",
       "      <td>caxias do sul</td>\n",
       "      <td>38af8acfd46ac4a7bf754e8ca6736664</td>\n",
       "      <td>sao paulo</td>\n",
       "      <td>SP</td>\n",
       "      <td>4364</td>\n",
       "      <td>-23.543642</td>\n",
       "      <td>-46.697140</td>\n",
       "    </tr>\n",
       "    <tr>\n",
       "      <th>663</th>\n",
       "      <td>0f14db1abb2772e95d78a72c30d69678</td>\n",
       "      <td>cc3e0004237b0c02f8fd95f943e1cebf</td>\n",
       "      <td>3563b65918969aa4770325856ec0c256</td>\n",
       "      <td>delivered</td>\n",
       "      <td>2018-04-11 02:48:15</td>\n",
       "      <td>6.50</td>\n",
       "      <td>voucher</td>\n",
       "      <td>furniture_decor</td>\n",
       "      <td>350.0</td>\n",
       "      <td>7bf292ff5a207037c946ce46a12e8d7b</td>\n",
       "      <td>florianopolis</td>\n",
       "      <td>38e679b9e0064cd94c6f035707344dae</td>\n",
       "      <td>londrina</td>\n",
       "      <td>PR</td>\n",
       "      <td>86010</td>\n",
       "      <td>-23.430669</td>\n",
       "      <td>-51.934786</td>\n",
       "    </tr>\n",
       "    <tr>\n",
       "      <th>778</th>\n",
       "      <td>11bfb5214a47c5a12e3dab8cac01c304</td>\n",
       "      <td>ad4b5def91ac7c575dbdf65b5be311f4</td>\n",
       "      <td>fbdea18ec346682a0dd7c542c56e74ff</td>\n",
       "      <td>delivered</td>\n",
       "      <td>2018-02-19 12:09:02</td>\n",
       "      <td>23.48</td>\n",
       "      <td>debit_card</td>\n",
       "      <td>computers_accessories</td>\n",
       "      <td>250.0</td>\n",
       "      <td>18d0f54e66d1afa5e154eb1ae2a463c4</td>\n",
       "      <td>campina grande</td>\n",
       "      <td>412a4720f3e9431b4afa1476a1acddbe</td>\n",
       "      <td>campinas</td>\n",
       "      <td>SP</td>\n",
       "      <td>13060</td>\n",
       "      <td>-21.122715</td>\n",
       "      <td>-47.825271</td>\n",
       "    </tr>\n",
       "    <tr>\n",
       "      <th>779</th>\n",
       "      <td>11bfb5214a47c5a12e3dab8cac01c304</td>\n",
       "      <td>e6b314a2236c162ede1a879f1075430f</td>\n",
       "      <td>fbdea18ec346682a0dd7c542c56e74ff</td>\n",
       "      <td>delivered</td>\n",
       "      <td>2018-02-19 12:09:02</td>\n",
       "      <td>23.48</td>\n",
       "      <td>debit_card</td>\n",
       "      <td>computers_accessories</td>\n",
       "      <td>167.0</td>\n",
       "      <td>a97737b9de902fa65599e2a440b9b8e8</td>\n",
       "      <td>sorocaba</td>\n",
       "      <td>4170f6a9367e6b5d6401d03ce6d54569</td>\n",
       "      <td>brasilia df</td>\n",
       "      <td>DF</td>\n",
       "      <td>71906</td>\n",
       "      <td>-16.026930</td>\n",
       "      <td>-48.068865</td>\n",
       "    </tr>\n",
       "    <tr>\n",
       "      <th>839</th>\n",
       "      <td>13745e40e031fc753b072545abbde8e9</td>\n",
       "      <td>321cea6c65a44a9abde31f677f976c63</td>\n",
       "      <td>9027b069d034d8d8f7cf1f9652ff702d</td>\n",
       "      <td>delivered</td>\n",
       "      <td>2017-08-12 22:00:15</td>\n",
       "      <td>87.00</td>\n",
       "      <td>credit_card</td>\n",
       "      <td>bed_bath_table</td>\n",
       "      <td>1450.0</td>\n",
       "      <td>cd8cc6c5fec2c2caddc3e96619c2f136</td>\n",
       "      <td>sao paulo</td>\n",
       "      <td>45d33f715e24d15a6ccf5c17b3a23e3c</td>\n",
       "      <td>sorocaba</td>\n",
       "      <td>SP</td>\n",
       "      <td>18015</td>\n",
       "      <td>-22.856171</td>\n",
       "      <td>-43.258556</td>\n",
       "    </tr>\n",
       "    <tr>\n",
       "      <th>840</th>\n",
       "      <td>13745e40e031fc753b072545abbde8e9</td>\n",
       "      <td>e0ce26ae52c9ab0b8c8e42129d6c1996</td>\n",
       "      <td>9027b069d034d8d8f7cf1f9652ff702d</td>\n",
       "      <td>delivered</td>\n",
       "      <td>2017-08-12 22:00:15</td>\n",
       "      <td>24.90</td>\n",
       "      <td>credit_card</td>\n",
       "      <td>furniture_decor</td>\n",
       "      <td>1050.0</td>\n",
       "      <td>ba30b0a551ddef6057b752431dc4abeb</td>\n",
       "      <td>luis eduardo magalhaes</td>\n",
       "      <td>461ff5303b6c9c1a4a07f40c5aece516</td>\n",
       "      <td>pinhais</td>\n",
       "      <td>PR</td>\n",
       "      <td>83323</td>\n",
       "      <td>-24.805459</td>\n",
       "      <td>-49.998307</td>\n",
       "    </tr>\n",
       "    <tr>\n",
       "      <th>908</th>\n",
       "      <td>15150ddeaa74db28d29ed2ce89330311</td>\n",
       "      <td>50e1b118f266b655f613f753914c42db</td>\n",
       "      <td>a91e3fc06b055c6f4073f969937d9442</td>\n",
       "      <td>delivered</td>\n",
       "      <td>2017-11-25 15:30:22</td>\n",
       "      <td>39.99</td>\n",
       "      <td>credit_card</td>\n",
       "      <td>bed_bath_table</td>\n",
       "      <td>800.0</td>\n",
       "      <td>aee6125cb5bde8bf58b7a0dc231f8c51</td>\n",
       "      <td>campinas</td>\n",
       "      <td>4c2b230173bb36f9b240f2b8ac11786e</td>\n",
       "      <td>sao paulo</td>\n",
       "      <td>SP</td>\n",
       "      <td>3933</td>\n",
       "      <td>-23.622479</td>\n",
       "      <td>-46.689811</td>\n",
       "    </tr>\n",
       "    <tr>\n",
       "      <th>909</th>\n",
       "      <td>15150ddeaa74db28d29ed2ce89330311</td>\n",
       "      <td>b2deacef3cd033a4c5b247c4e03b1744</td>\n",
       "      <td>a91e3fc06b055c6f4073f969937d9442</td>\n",
       "      <td>delivered</td>\n",
       "      <td>2017-11-25 15:30:22</td>\n",
       "      <td>39.99</td>\n",
       "      <td>credit_card</td>\n",
       "      <td>bed_bath_table</td>\n",
       "      <td>800.0</td>\n",
       "      <td>14b49d162cc1a8333aec3853db1812f5</td>\n",
       "      <td>guarulhos</td>\n",
       "      <td>4c498c7345e89aebad651544829beca0</td>\n",
       "      <td>carapicuiba</td>\n",
       "      <td>SP</td>\n",
       "      <td>6341</td>\n",
       "      <td>-23.580720</td>\n",
       "      <td>-46.419877</td>\n",
       "    </tr>\n",
       "    <tr>\n",
       "      <th>1058</th>\n",
       "      <td>183ee0e3ebd4c1c995e5f9ac2d950ee8</td>\n",
       "      <td>474bb6b54fc608ca71059a6c4f7ecda3</td>\n",
       "      <td>81f49a0bc228fb20bc73f85ed36a0c0b</td>\n",
       "      <td>delivered</td>\n",
       "      <td>2018-02-01 19:55:53</td>\n",
       "      <td>21.90</td>\n",
       "      <td>credit_card</td>\n",
       "      <td>electronics</td>\n",
       "      <td>150.0</td>\n",
       "      <td>80025915b2b4d9a7acee5bc82c6ff699</td>\n",
       "      <td>governador valadares</td>\n",
       "      <td>56db5c0782e8f7ddc9343f9576ff6d16</td>\n",
       "      <td>palhoca</td>\n",
       "      <td>SC</td>\n",
       "      <td>88132</td>\n",
       "      <td>-28.186568</td>\n",
       "      <td>-49.215586</td>\n",
       "    </tr>\n",
       "    <tr>\n",
       "      <th>1059</th>\n",
       "      <td>183ee0e3ebd4c1c995e5f9ac2d950ee8</td>\n",
       "      <td>566a4f2c4385f36d15c00dfcaae132d1</td>\n",
       "      <td>81f49a0bc228fb20bc73f85ed36a0c0b</td>\n",
       "      <td>delivered</td>\n",
       "      <td>2018-02-01 19:55:53</td>\n",
       "      <td>21.90</td>\n",
       "      <td>credit_card</td>\n",
       "      <td>electronics</td>\n",
       "      <td>150.0</td>\n",
       "      <td>4ef22321e988e87dbb047cd96b9293fd</td>\n",
       "      <td>sao paulo</td>\n",
       "      <td>56e361f411e38dcef17cdc2a3d99628b</td>\n",
       "      <td>guarulhos</td>\n",
       "      <td>SP</td>\n",
       "      <td>7113</td>\n",
       "      <td>-23.634291</td>\n",
       "      <td>-46.559987</td>\n",
       "    </tr>\n",
       "    <tr>\n",
       "      <th>1156</th>\n",
       "      <td>1a3ccc1695931b2cb7a95065e0c81e4b</td>\n",
       "      <td>b1acb7e8152c90c9619897753a75c973</td>\n",
       "      <td>cd7df89ab76adcfe3e1b4a36b042b081</td>\n",
       "      <td>invoiced</td>\n",
       "      <td>2017-10-16 12:21:07</td>\n",
       "      <td>34.99</td>\n",
       "      <td>boleto</td>\n",
       "      <td>health_beauty</td>\n",
       "      <td>200.0</td>\n",
       "      <td>6a62eecd03864fde7bcb252adcae7fb2</td>\n",
       "      <td>sao paulo</td>\n",
       "      <td>5def4c3732941a971cba8fdee992ede1</td>\n",
       "      <td>sao paulo</td>\n",
       "      <td>SP</td>\n",
       "      <td>2113</td>\n",
       "      <td>-23.479021</td>\n",
       "      <td>-46.595467</td>\n",
       "    </tr>\n",
       "    <tr>\n",
       "      <th>1155</th>\n",
       "      <td>1a3ccc1695931b2cb7a95065e0c81e4b</td>\n",
       "      <td>2b4609f8948be18874494203496bc318</td>\n",
       "      <td>cd7df89ab76adcfe3e1b4a36b042b081</td>\n",
       "      <td>invoiced</td>\n",
       "      <td>2017-10-16 12:21:07</td>\n",
       "      <td>89.99</td>\n",
       "      <td>boleto</td>\n",
       "      <td>health_beauty</td>\n",
       "      <td>250.0</td>\n",
       "      <td>c9abd721cd3e14892fc6c4144ab2744a</td>\n",
       "      <td>sao paulo</td>\n",
       "      <td>5debea795b07621e1f90532e18f96145</td>\n",
       "      <td>apucarana</td>\n",
       "      <td>PR</td>\n",
       "      <td>86800</td>\n",
       "      <td>-27.678314</td>\n",
       "      <td>-48.500389</td>\n",
       "    </tr>\n",
       "    <tr>\n",
       "      <th>1478</th>\n",
       "      <td>220d51765a0cb5fd731934046856d5bb</td>\n",
       "      <td>962a6951154f98f2c8e9a5b8b2bcf4a9</td>\n",
       "      <td>44edfdeb25a4a533df2761f27356f204</td>\n",
       "      <td>delivered</td>\n",
       "      <td>2018-04-03 18:51:47</td>\n",
       "      <td>75.00</td>\n",
       "      <td>credit_card</td>\n",
       "      <td>furniture_decor</td>\n",
       "      <td>2550.0</td>\n",
       "      <td>df0ec86a6c614ee79015aca7cb821316</td>\n",
       "      <td>franca</td>\n",
       "      <td>782f78b632a43875dd5b53e3e49c9564</td>\n",
       "      <td>campinas</td>\n",
       "      <td>SP</td>\n",
       "      <td>13030</td>\n",
       "      <td>-22.113304</td>\n",
       "      <td>-46.682050</td>\n",
       "    </tr>\n",
       "    <tr>\n",
       "      <th>1479</th>\n",
       "      <td>220d51765a0cb5fd731934046856d5bb</td>\n",
       "      <td>cfe9e8e1f0400c8cc665d41722f34086</td>\n",
       "      <td>44edfdeb25a4a533df2761f27356f204</td>\n",
       "      <td>delivered</td>\n",
       "      <td>2018-04-03 18:51:47</td>\n",
       "      <td>370.00</td>\n",
       "      <td>credit_card</td>\n",
       "      <td>furniture_decor</td>\n",
       "      <td>1500.0</td>\n",
       "      <td>14c371217da5521396b475dd7a0ac8ce</td>\n",
       "      <td>esteio</td>\n",
       "      <td>784ba75dd9d20200c4caed3d7a77141a</td>\n",
       "      <td>sao paulo</td>\n",
       "      <td>SP</td>\n",
       "      <td>1040</td>\n",
       "      <td>-23.533272</td>\n",
       "      <td>-46.654100</td>\n",
       "    </tr>\n",
       "    <tr>\n",
       "      <th>1891</th>\n",
       "      <td>2c52a5a630ca9e849ec5fad8932bab44</td>\n",
       "      <td>7703b8cb5b77fbb36518ea91e2ca734f</td>\n",
       "      <td>6aba59b1c67fe19d82c9e2c568ad4872</td>\n",
       "      <td>delivered</td>\n",
       "      <td>2017-03-16 14:41:46</td>\n",
       "      <td>39.00</td>\n",
       "      <td>credit_card</td>\n",
       "      <td>watches_gifts</td>\n",
       "      <td>250.0</td>\n",
       "      <td>c2b2dddae69440202ae09ed199f75c28</td>\n",
       "      <td>trancoso</td>\n",
       "      <td>9b76ad3d04236f76bc71c59470305e13</td>\n",
       "      <td>boituva</td>\n",
       "      <td>SP</td>\n",
       "      <td>18550</td>\n",
       "      <td>-22.882361</td>\n",
       "      <td>-43.448290</td>\n",
       "    </tr>\n",
       "    <tr>\n",
       "      <th>1892</th>\n",
       "      <td>2c52a5a630ca9e849ec5fad8932bab44</td>\n",
       "      <td>7dac8901a50cf3317d5372cbd3186ecd</td>\n",
       "      <td>6aba59b1c67fe19d82c9e2c568ad4872</td>\n",
       "      <td>delivered</td>\n",
       "      <td>2017-03-16 14:41:46</td>\n",
       "      <td>29.00</td>\n",
       "      <td>credit_card</td>\n",
       "      <td>watches_gifts</td>\n",
       "      <td>300.0</td>\n",
       "      <td>bb670618203f9cc6fd8b687f4c5954d6</td>\n",
       "      <td>rio claro</td>\n",
       "      <td>9bade61a92bed55a25d2b67b9f4ed739</td>\n",
       "      <td>sao jose dos pinhais</td>\n",
       "      <td>PR</td>\n",
       "      <td>83005</td>\n",
       "      <td>-25.550135</td>\n",
       "      <td>-49.390189</td>\n",
       "    </tr>\n",
       "    <tr>\n",
       "      <th>2152</th>\n",
       "      <td>3263e5243c28ebe706f7500cf88054ad</td>\n",
       "      <td>281a67fd770c975ee1a7c842468fb3b5</td>\n",
       "      <td>d2cb62917a62d79c9eaa46bdd9d374a5</td>\n",
       "      <td>delivered</td>\n",
       "      <td>2018-04-22 18:16:11</td>\n",
       "      <td>60.00</td>\n",
       "      <td>credit_card</td>\n",
       "      <td>furniture_decor</td>\n",
       "      <td>10400.0</td>\n",
       "      <td>4c7241af24b5344cb01fe687643de4fe</td>\n",
       "      <td>fortaleza</td>\n",
       "      <td>b335c59ab742f751a85db9c411a86739</td>\n",
       "      <td>araguari</td>\n",
       "      <td>MG</td>\n",
       "      <td>38442</td>\n",
       "      <td>-19.733092</td>\n",
       "      <td>-47.900851</td>\n",
       "    </tr>\n",
       "    <tr>\n",
       "      <th>2153</th>\n",
       "      <td>3263e5243c28ebe706f7500cf88054ad</td>\n",
       "      <td>ef66e63137bdd1b2e44aa968646fc1e3</td>\n",
       "      <td>d2cb62917a62d79c9eaa46bdd9d374a5</td>\n",
       "      <td>delivered</td>\n",
       "      <td>2018-04-22 18:16:11</td>\n",
       "      <td>35.00</td>\n",
       "      <td>credit_card</td>\n",
       "      <td>furniture_decor</td>\n",
       "      <td>750.0</td>\n",
       "      <td>bb38dcdbc99e5fbf1ca0dc4f8c6b2f4e</td>\n",
       "      <td>fortaleza</td>\n",
       "      <td>b33aaadd1a8891d2dfef0c4c3bdf0371</td>\n",
       "      <td>limeira</td>\n",
       "      <td>SP</td>\n",
       "      <td>13481</td>\n",
       "      <td>-21.091881</td>\n",
       "      <td>-49.243063</td>\n",
       "    </tr>\n",
       "    <tr>\n",
       "      <th>2510</th>\n",
       "      <td>3ad9ae84ca65db282ae34e9c9aeeaf7c</td>\n",
       "      <td>dbf4588317c84ec9cde32b033de522e4</td>\n",
       "      <td>c04734728558c8ad7e4b1db771fde5e3</td>\n",
       "      <td>delivered</td>\n",
       "      <td>2017-11-07 16:54:04</td>\n",
       "      <td>1449.50</td>\n",
       "      <td>credit_card</td>\n",
       "      <td>watches_gifts</td>\n",
       "      <td>500.0</td>\n",
       "      <td>b2d679dd685c9580d766ac171cbc1e2b</td>\n",
       "      <td>campinas</td>\n",
       "      <td>cea729054f157f5870bdd321a958d994</td>\n",
       "      <td>sao paulo</td>\n",
       "      <td>SP</td>\n",
       "      <td>3161</td>\n",
       "      <td>-23.535850</td>\n",
       "      <td>-46.474478</td>\n",
       "    </tr>\n",
       "    <tr>\n",
       "      <th>2509</th>\n",
       "      <td>3ad9ae84ca65db282ae34e9c9aeeaf7c</td>\n",
       "      <td>7b35be468d9795a7529f65c50ec87668</td>\n",
       "      <td>c04734728558c8ad7e4b1db771fde5e3</td>\n",
       "      <td>delivered</td>\n",
       "      <td>2017-11-07 16:54:04</td>\n",
       "      <td>629.00</td>\n",
       "      <td>credit_card</td>\n",
       "      <td>watches_gifts</td>\n",
       "      <td>4381.0</td>\n",
       "      <td>32528e4f1eaacf4bef51744ce7827974</td>\n",
       "      <td>sao goncalo do amarante</td>\n",
       "      <td>ce7d1888639e6fb06b2749cbfdac1ff7</td>\n",
       "      <td>baependi</td>\n",
       "      <td>MG</td>\n",
       "      <td>37443</td>\n",
       "      <td>-21.553594</td>\n",
       "      <td>-45.418718</td>\n",
       "    </tr>\n",
       "    <tr>\n",
       "      <th>2567</th>\n",
       "      <td>3c8cf4a64088009cadc132d10d0ae7f4</td>\n",
       "      <td>24c0de23191c9450049b2b3d8749ad35</td>\n",
       "      <td>9e9cab5f8089dbfb465b14561a59606b</td>\n",
       "      <td>delivered</td>\n",
       "      <td>2018-08-02 15:57:13</td>\n",
       "      <td>49.90</td>\n",
       "      <td>credit_card</td>\n",
       "      <td>bed_bath_table</td>\n",
       "      <td>300.0</td>\n",
       "      <td>2a8e6bb4efdcf4ac252e81658f1eb003</td>\n",
       "      <td>salvador</td>\n",
       "      <td>d4828feed4cda2cd9d6b37899a95a71e</td>\n",
       "      <td>juzeiro do norte</td>\n",
       "      <td>CE</td>\n",
       "      <td>63020</td>\n",
       "      <td>-4.709968</td>\n",
       "      <td>-40.567034</td>\n",
       "    </tr>\n",
       "    <tr>\n",
       "      <th>2568</th>\n",
       "      <td>3c8cf4a64088009cadc132d10d0ae7f4</td>\n",
       "      <td>ab674fcb1f06bd16dfbca8d91f016391</td>\n",
       "      <td>9e9cab5f8089dbfb465b14561a59606b</td>\n",
       "      <td>delivered</td>\n",
       "      <td>2018-08-02 15:57:13</td>\n",
       "      <td>43.90</td>\n",
       "      <td>credit_card</td>\n",
       "      <td>furniture_decor</td>\n",
       "      <td>300.0</td>\n",
       "      <td>b33048573f45345486965ab1963311c5</td>\n",
       "      <td>andradina</td>\n",
       "      <td>d4910f1cdcfdabd48d6b316e395d4a23</td>\n",
       "      <td>santo andre</td>\n",
       "      <td>SP</td>\n",
       "      <td>9190</td>\n",
       "      <td>-23.205740</td>\n",
       "      <td>-45.951833</td>\n",
       "    </tr>\n",
       "    <tr>\n",
       "      <th>2629</th>\n",
       "      <td>3df55fc07ff463109ce0422439693aee</td>\n",
       "      <td>3f37f32e535d54ae9b3c1cf62aa76c43</td>\n",
       "      <td>795053583923996fa8e06ebf88981274</td>\n",
       "      <td>delivered</td>\n",
       "      <td>2017-09-03 22:36:56</td>\n",
       "      <td>52.64</td>\n",
       "      <td>voucher</td>\n",
       "      <td>bed_bath_table</td>\n",
       "      <td>450.0</td>\n",
       "      <td>c32c81e28e06a9bb6d3b24878e1caa05</td>\n",
       "      <td>seropedica</td>\n",
       "      <td>d9bd94811c3338dceb4181f3dbc0c73e</td>\n",
       "      <td>sao paulo</td>\n",
       "      <td>SP</td>\n",
       "      <td>4186</td>\n",
       "      <td>-23.513089</td>\n",
       "      <td>-46.689424</td>\n",
       "    </tr>\n",
       "    <tr>\n",
       "      <th>2630</th>\n",
       "      <td>3df55fc07ff463109ce0422439693aee</td>\n",
       "      <td>b3e40ff639c185b9d726b4b19c17e6cd</td>\n",
       "      <td>795053583923996fa8e06ebf88981274</td>\n",
       "      <td>delivered</td>\n",
       "      <td>2017-09-03 22:36:56</td>\n",
       "      <td>229.99</td>\n",
       "      <td>credit_card</td>\n",
       "      <td>cool_stuff</td>\n",
       "      <td>2150.0</td>\n",
       "      <td>2506353d8e7d5df20d0da907b6c5aac0</td>\n",
       "      <td>inhumas</td>\n",
       "      <td>d9c349beabc06aa6ff1c6d68b5e9e22e</td>\n",
       "      <td>sao paulo</td>\n",
       "      <td>SP</td>\n",
       "      <td>3586</td>\n",
       "      <td>-23.692899</td>\n",
       "      <td>-46.673426</td>\n",
       "    </tr>\n",
       "    <tr>\n",
       "      <th>2762</th>\n",
       "      <td>40e4b27fe658a1c1e627e503b29ef734</td>\n",
       "      <td>51edddbbc47a477259e672bd291feed6</td>\n",
       "      <td>dcbb7859db42a729d4cc316eb6691974</td>\n",
       "      <td>delivered</td>\n",
       "      <td>2018-06-24 17:20:56</td>\n",
       "      <td>10.90</td>\n",
       "      <td>credit_card</td>\n",
       "      <td>housewares</td>\n",
       "      <td>450.0</td>\n",
       "      <td>dc1ae63bd9c387114b602a80b70b20a7</td>\n",
       "      <td>bom conselho</td>\n",
       "      <td>e595809a6c31ec4314fd06ef198c244d</td>\n",
       "      <td>navegantes</td>\n",
       "      <td>SC</td>\n",
       "      <td>88370</td>\n",
       "      <td>-26.920376</td>\n",
       "      <td>-49.086486</td>\n",
       "    </tr>\n",
       "    <tr>\n",
       "      <th>2763</th>\n",
       "      <td>40e4b27fe658a1c1e627e503b29ef734</td>\n",
       "      <td>ec2d43cc59763ec91694573b31f1c29a</td>\n",
       "      <td>dcbb7859db42a729d4cc316eb6691974</td>\n",
       "      <td>delivered</td>\n",
       "      <td>2018-06-24 17:20:56</td>\n",
       "      <td>47.90</td>\n",
       "      <td>credit_card</td>\n",
       "      <td>bed_bath_table</td>\n",
       "      <td>800.0</td>\n",
       "      <td>054a61b5ef37f443a58664bdea26488e</td>\n",
       "      <td>itajobi</td>\n",
       "      <td>e59aa562b9f8076dd550fcddf0e73491</td>\n",
       "      <td>curitiba</td>\n",
       "      <td>PR</td>\n",
       "      <td>82810</td>\n",
       "      <td>-25.370443</td>\n",
       "      <td>-49.355904</td>\n",
       "    </tr>\n",
       "    <tr>\n",
       "      <th>2839</th>\n",
       "      <td>4294d6c2b09c5f2438c01b11c91ff7a8</td>\n",
       "      <td>1427b126f61597524866770b05d4eed2</td>\n",
       "      <td>fbfb33cc34116ccf95b043f7cd31c692</td>\n",
       "      <td>delivered</td>\n",
       "      <td>2018-06-10 13:42:58</td>\n",
       "      <td>120.00</td>\n",
       "      <td>debit_card</td>\n",
       "      <td>computers_accessories</td>\n",
       "      <td>200.0</td>\n",
       "      <td>738d70ab609daf8cbba4779539682791</td>\n",
       "      <td>paraguacu paulista</td>\n",
       "      <td>eae9af4811c294c56795d70e715b7337</td>\n",
       "      <td>sao paulo</td>\n",
       "      <td>SP</td>\n",
       "      <td>3060</td>\n",
       "      <td>-23.565367</td>\n",
       "      <td>-46.539288</td>\n",
       "    </tr>\n",
       "    <tr>\n",
       "      <th>2840</th>\n",
       "      <td>4294d6c2b09c5f2438c01b11c91ff7a8</td>\n",
       "      <td>689c51a11e9c5daefc1f9b0782e28fcf</td>\n",
       "      <td>fbfb33cc34116ccf95b043f7cd31c692</td>\n",
       "      <td>delivered</td>\n",
       "      <td>2018-06-10 13:42:58</td>\n",
       "      <td>24.00</td>\n",
       "      <td>debit_card</td>\n",
       "      <td>stationery</td>\n",
       "      <td>150.0</td>\n",
       "      <td>98cea627e0afae6f6e71fa86174b819c</td>\n",
       "      <td>ariquemes</td>\n",
       "      <td>eaf6d55068dea77334e8477d3878d89e</td>\n",
       "      <td>sao paulo</td>\n",
       "      <td>SP</td>\n",
       "      <td>4660</td>\n",
       "      <td>-23.637718</td>\n",
       "      <td>-46.736932</td>\n",
       "    </tr>\n",
       "  </tbody>\n",
       "</table>\n",
       "</div>"
      ],
      "text/plain": [
       "                              order_id  ... geolocation_lng\n",
       "586   0d0b7c65e71700ed5fe8ae8d2baac37b  ...      -49.150390\n",
       "587   0d0b7c65e71700ed5fe8ae8d2baac37b  ...      -43.966997\n",
       "611   0dde32a7d38a8fd9a7e5b383271a5eea  ...      -51.934786\n",
       "612   0dde32a7d38a8fd9a7e5b383271a5eea  ...      -52.101489\n",
       "662   0f14db1abb2772e95d78a72c30d69678  ...      -46.697140\n",
       "663   0f14db1abb2772e95d78a72c30d69678  ...      -51.934786\n",
       "778   11bfb5214a47c5a12e3dab8cac01c304  ...      -47.825271\n",
       "779   11bfb5214a47c5a12e3dab8cac01c304  ...      -48.068865\n",
       "839   13745e40e031fc753b072545abbde8e9  ...      -43.258556\n",
       "840   13745e40e031fc753b072545abbde8e9  ...      -49.998307\n",
       "908   15150ddeaa74db28d29ed2ce89330311  ...      -46.689811\n",
       "909   15150ddeaa74db28d29ed2ce89330311  ...      -46.419877\n",
       "1058  183ee0e3ebd4c1c995e5f9ac2d950ee8  ...      -49.215586\n",
       "1059  183ee0e3ebd4c1c995e5f9ac2d950ee8  ...      -46.559987\n",
       "1156  1a3ccc1695931b2cb7a95065e0c81e4b  ...      -46.595467\n",
       "1155  1a3ccc1695931b2cb7a95065e0c81e4b  ...      -48.500389\n",
       "1478  220d51765a0cb5fd731934046856d5bb  ...      -46.682050\n",
       "1479  220d51765a0cb5fd731934046856d5bb  ...      -46.654100\n",
       "1891  2c52a5a630ca9e849ec5fad8932bab44  ...      -43.448290\n",
       "1892  2c52a5a630ca9e849ec5fad8932bab44  ...      -49.390189\n",
       "2152  3263e5243c28ebe706f7500cf88054ad  ...      -47.900851\n",
       "2153  3263e5243c28ebe706f7500cf88054ad  ...      -49.243063\n",
       "2510  3ad9ae84ca65db282ae34e9c9aeeaf7c  ...      -46.474478\n",
       "2509  3ad9ae84ca65db282ae34e9c9aeeaf7c  ...      -45.418718\n",
       "2567  3c8cf4a64088009cadc132d10d0ae7f4  ...      -40.567034\n",
       "2568  3c8cf4a64088009cadc132d10d0ae7f4  ...      -45.951833\n",
       "2629  3df55fc07ff463109ce0422439693aee  ...      -46.689424\n",
       "2630  3df55fc07ff463109ce0422439693aee  ...      -46.673426\n",
       "2762  40e4b27fe658a1c1e627e503b29ef734  ...      -49.086486\n",
       "2763  40e4b27fe658a1c1e627e503b29ef734  ...      -49.355904\n",
       "2839  4294d6c2b09c5f2438c01b11c91ff7a8  ...      -46.539288\n",
       "2840  4294d6c2b09c5f2438c01b11c91ff7a8  ...      -46.736932\n",
       "\n",
       "[32 rows x 17 columns]"
      ]
     },
     "execution_count": 278,
     "metadata": {},
     "output_type": "execute_result"
    }
   ],
   "source": [
    "# Mengidentifikasi apakah terdapat duplicate value pada tabel dengan acuan kolom\n",
    "df_final[df_final[\"order_id\"].duplicated(keep=False)].sort_values(\"order_id\")"
   ]
  },
  {
   "cell_type": "code",
   "execution_count": 279,
   "metadata": {
    "id": "VtOafJ9dy8Or"
   },
   "outputs": [],
   "source": [
    "# menghilangkan duplicate value pada tabel\n",
    "df_final = df_final.drop_duplicates(subset=['order_id']).reset_index()"
   ]
  },
  {
   "cell_type": "code",
   "execution_count": 280,
   "metadata": {
    "colab": {
     "base_uri": "https://localhost:8080/",
     "height": 69
    },
    "id": "9EfJAJ8wzC3X",
    "outputId": "23abbede-8b6b-4e9b-e15e-bcbc169b33e2"
   },
   "outputs": [
    {
     "data": {
      "text/html": [
       "<div>\n",
       "<style scoped>\n",
       "    .dataframe tbody tr th:only-of-type {\n",
       "        vertical-align: middle;\n",
       "    }\n",
       "\n",
       "    .dataframe tbody tr th {\n",
       "        vertical-align: top;\n",
       "    }\n",
       "\n",
       "    .dataframe thead th {\n",
       "        text-align: right;\n",
       "    }\n",
       "</style>\n",
       "<table border=\"1\" class=\"dataframe\">\n",
       "  <thead>\n",
       "    <tr style=\"text-align: right;\">\n",
       "      <th></th>\n",
       "      <th>index</th>\n",
       "      <th>order_id</th>\n",
       "      <th>product_id</th>\n",
       "      <th>customer_id</th>\n",
       "      <th>order_status</th>\n",
       "      <th>order_purchase_timestamp</th>\n",
       "      <th>price</th>\n",
       "      <th>payment_type</th>\n",
       "      <th>product_category_name</th>\n",
       "      <th>product_weight_g</th>\n",
       "      <th>customer_id</th>\n",
       "      <th>customer_city</th>\n",
       "      <th>seller_id</th>\n",
       "      <th>seller_city</th>\n",
       "      <th>seller_state</th>\n",
       "      <th>seller_zip_code_prefix</th>\n",
       "      <th>geolocation_lat</th>\n",
       "      <th>geolocation_lng</th>\n",
       "    </tr>\n",
       "  </thead>\n",
       "  <tbody>\n",
       "  </tbody>\n",
       "</table>\n",
       "</div>"
      ],
      "text/plain": [
       "Empty DataFrame\n",
       "Columns: [index, order_id, product_id, customer_id, order_status, order_purchase_timestamp, price, payment_type, product_category_name, product_weight_g, customer_id, customer_city, seller_id, seller_city, seller_state, seller_zip_code_prefix, geolocation_lat, geolocation_lng]\n",
       "Index: []"
      ]
     },
     "execution_count": 280,
     "metadata": {},
     "output_type": "execute_result"
    }
   ],
   "source": [
    "# Mengidentifikasi kembali apakah terdapat duplicate value pada tabel dengan acuan kolom\n",
    "df_final[df_final[\"order_id\"].duplicated(keep=False)].sort_values(\"order_id\")"
   ]
  },
  {
   "cell_type": "code",
   "execution_count": 281,
   "metadata": {
    "colab": {
     "base_uri": "https://localhost:8080/"
    },
    "id": "YDJdNfFczL3B",
    "outputId": "3b01efa2-cc75-4f10-9df2-890b033ced32"
   },
   "outputs": [
    {
     "data": {
      "text/plain": [
       "count    3006.000000\n",
       "mean      118.236444\n",
       "std       184.659628\n",
       "min         3.900000\n",
       "25%        39.900000\n",
       "50%        74.900000\n",
       "75%       129.990000\n",
       "max      4399.870000\n",
       "Name: price, dtype: float64"
      ]
     },
     "execution_count": 281,
     "metadata": {},
     "output_type": "execute_result"
    }
   ],
   "source": [
    "# Mencari tau statistika deskriptif dari kolom Price\n",
    "df_final[\"price\"].describe()"
   ]
  },
  {
   "cell_type": "code",
   "execution_count": 282,
   "metadata": {
    "colab": {
     "base_uri": "https://localhost:8080/",
     "height": 282
    },
    "id": "5rZmcSJfzNph",
    "outputId": "56145d60-b8ef-482d-d221-aecdecf83ef8"
   },
   "outputs": [
    {
     "data": {
      "text/plain": [
       "<matplotlib.axes._subplots.AxesSubplot at 0x7fbf3d3aa7d0>"
      ]
     },
     "execution_count": 282,
     "metadata": {},
     "output_type": "execute_result"
    },
    {
     "data": {
      "image/png": "[encoded data removed]",
      "text/plain": [
       "<Figure size 432x288 with 1 Axes>"
      ]
     },
     "metadata": {
      "needs_background": "light"
     },
     "output_type": "display_data"
    }
   ],
   "source": [
    "# Memvisualisasikan variabel Price\n",
    "df_final[\"price\"].hist(bins=6)"
   ]
  },
  {
   "cell_type": "code",
   "execution_count": 283,
   "metadata": {
    "id": "yofzN3zFzQDv"
   },
   "outputs": [],
   "source": [
    "# Berdasarkan rumus yang telah diketahui, kita dapat menstandardisasi variabel price\n",
    "df_final['price_stand'] = (df_final[\"price\"] - df_final[\"price\"].mean()) / (df_final[\"price\"].std())"
   ]
  },
  {
   "cell_type": "code",
   "execution_count": 284,
   "metadata": {
    "colab": {
     "base_uri": "https://localhost:8080/"
    },
    "id": "oMzgwCQPzQLz",
    "outputId": "a4b6486e-9fc6-452a-d540-379dd10b54cf"
   },
   "outputs": [
    {
     "data": {
      "text/plain": [
       "count    3.006000e+03\n",
       "mean    -7.756049e-17\n",
       "std      1.000000e+00\n",
       "min     -6.191740e-01\n",
       "25%     -4.242207e-01\n",
       "50%     -2.346828e-01\n",
       "75%      6.364984e-02\n",
       "max      2.318663e+01\n",
       "Name: price_stand, dtype: float64"
      ]
     },
     "execution_count": 284,
     "metadata": {},
     "output_type": "execute_result"
    }
   ],
   "source": [
    "df_final['price_stand'].describe()"
   ]
  },
  {
   "cell_type": "code",
   "execution_count": 285,
   "metadata": {
    "colab": {
     "base_uri": "https://localhost:8080/",
     "height": 282
    },
    "id": "Yvydr7bbzZEd",
    "outputId": "8c298e7c-64bd-4dd7-8c48-b29372cf25ac"
   },
   "outputs": [
    {
     "data": {
      "text/plain": [
       "<matplotlib.axes._subplots.AxesSubplot at 0x7fbf37a24250>"
      ]
     },
     "execution_count": 285,
     "metadata": {},
     "output_type": "execute_result"
    },
    {
     "data": {
      "image/png": "[encoded data removed]",
      "text/plain": [
       "<Figure size 432x288 with 1 Axes>"
      ]
     },
     "metadata": {
      "needs_background": "light"
     },
     "output_type": "display_data"
    }
   ],
   "source": [
    "df_final['price_stand'].hist(bins = 6)"
   ]
  },
  {
   "cell_type": "code",
   "execution_count": 286,
   "metadata": {
    "id": "xl7AB7kgzjz2"
   },
   "outputs": [],
   "source": [
    "df_final.to_csv(path + 'df_terbaru.csv')"
   ]
  },
  {
   "cell_type": "markdown",
   "metadata": {
    "id": "QUlpaqeqMFn2"
   },
   "source": [
    "## EXPLORATORY DATA"
   ]
  },
  {
   "cell_type": "code",
   "execution_count": 287,
   "metadata": {
    "colab": {
     "base_uri": "https://localhost:8080/",
     "height": 244
    },
    "id": "AayCOMwWmVYc",
    "outputId": "7c06e932-4fc3-4ad1-a0e4-3d1a69d067cd"
   },
   "outputs": [
    {
     "data": {
      "text/html": [
       "<div>\n",
       "<style scoped>\n",
       "    .dataframe tbody tr th:only-of-type {\n",
       "        vertical-align: middle;\n",
       "    }\n",
       "\n",
       "    .dataframe tbody tr th {\n",
       "        vertical-align: top;\n",
       "    }\n",
       "\n",
       "    .dataframe thead th {\n",
       "        text-align: right;\n",
       "    }\n",
       "</style>\n",
       "<table border=\"1\" class=\"dataframe\">\n",
       "  <thead>\n",
       "    <tr style=\"text-align: right;\">\n",
       "      <th></th>\n",
       "      <th>index</th>\n",
       "      <th>order_id</th>\n",
       "      <th>product_id</th>\n",
       "      <th>customer_id</th>\n",
       "      <th>order_status</th>\n",
       "      <th>order_purchase_timestamp</th>\n",
       "      <th>price</th>\n",
       "      <th>payment_type</th>\n",
       "      <th>product_category_name</th>\n",
       "      <th>product_weight_g</th>\n",
       "      <th>customer_id</th>\n",
       "      <th>customer_city</th>\n",
       "      <th>seller_id</th>\n",
       "      <th>seller_city</th>\n",
       "      <th>seller_state</th>\n",
       "      <th>seller_zip_code_prefix</th>\n",
       "      <th>geolocation_lat</th>\n",
       "      <th>geolocation_lng</th>\n",
       "      <th>price_stand</th>\n",
       "    </tr>\n",
       "  </thead>\n",
       "  <tbody>\n",
       "    <tr>\n",
       "      <th>0</th>\n",
       "      <td>1</td>\n",
       "      <td>0006ec9db01a64e59a68b2c340bf65a7</td>\n",
       "      <td>99a4788cb24856965c36a24e339b6058</td>\n",
       "      <td>5d178120c29c61748ea95bac23cb8f25</td>\n",
       "      <td>delivered</td>\n",
       "      <td>2018-07-24 17:04:17</td>\n",
       "      <td>74.00</td>\n",
       "      <td>credit_card</td>\n",
       "      <td>bed_bath_table</td>\n",
       "      <td>1383.0</td>\n",
       "      <td>f5afca14dfa9dc64251cf2b45c54c363</td>\n",
       "      <td>duque de caxias</td>\n",
       "      <td>001cca7ae9ae17fb1caed9dfb1094831</td>\n",
       "      <td>cariacica</td>\n",
       "      <td>ES</td>\n",
       "      <td>29156</td>\n",
       "      <td>-19.912800</td>\n",
       "      <td>-43.903035</td>\n",
       "      <td>-0.239557</td>\n",
       "    </tr>\n",
       "    <tr>\n",
       "      <th>1</th>\n",
       "      <td>2</td>\n",
       "      <td>00119ff934e539cf26f92b9ef0cdfed8</td>\n",
       "      <td>21b1c2f67a9aafb5af0eb06c13b9dbda</td>\n",
       "      <td>7dd2e283f47deac853cf70f3b63c8d86</td>\n",
       "      <td>delivered</td>\n",
       "      <td>2017-08-06 00:42:49</td>\n",
       "      <td>219.90</td>\n",
       "      <td>credit_card</td>\n",
       "      <td>sports_leisure</td>\n",
       "      <td>9800.0</td>\n",
       "      <td>be8c14c16a4d47194ccdfe10f1fc5b1a</td>\n",
       "      <td>cosmopolis</td>\n",
       "      <td>001e6ad469a905060d959994f1b41e4f</td>\n",
       "      <td>sao goncalo</td>\n",
       "      <td>RJ</td>\n",
       "      <td>24754</td>\n",
       "      <td>-22.758135</td>\n",
       "      <td>-43.438347</td>\n",
       "      <td>0.550546</td>\n",
       "    </tr>\n",
       "    <tr>\n",
       "      <th>2</th>\n",
       "      <td>3</td>\n",
       "      <td>0015ebb40fb17286bea51d4607c4733c</td>\n",
       "      <td>50fd2b788dc166edd20512370dac54df</td>\n",
       "      <td>da43a556bf5c36a1104c473cff77de6c</td>\n",
       "      <td>delivered</td>\n",
       "      <td>2018-01-14 09:01:36</td>\n",
       "      <td>21.90</td>\n",
       "      <td>credit_card</td>\n",
       "      <td>electronics</td>\n",
       "      <td>150.0</td>\n",
       "      <td>388025bec8128ff20ec1a316ed4dcf02</td>\n",
       "      <td>cascavel</td>\n",
       "      <td>002100f778ceb8431b7a1020ff7ab48f</td>\n",
       "      <td>franca</td>\n",
       "      <td>SP</td>\n",
       "      <td>14405</td>\n",
       "      <td>-23.492842</td>\n",
       "      <td>-47.470719</td>\n",
       "      <td>-0.521697</td>\n",
       "    </tr>\n",
       "    <tr>\n",
       "      <th>3</th>\n",
       "      <td>4</td>\n",
       "      <td>0016dfedd97fc2950e388d2971d718c7</td>\n",
       "      <td>4089861a1bd4685da70bddd6b4f974f1</td>\n",
       "      <td>2c8b917c5d7dd720ebe36a5ed3b501ec</td>\n",
       "      <td>delivered</td>\n",
       "      <td>2017-04-28 19:54:40</td>\n",
       "      <td>49.75</td>\n",
       "      <td>credit_card</td>\n",
       "      <td>garden_tools</td>\n",
       "      <td>1500.0</td>\n",
       "      <td>05e996469a2bf9559c7122b87e156724</td>\n",
       "      <td>portao</td>\n",
       "      <td>003554e2dce176b5555353e4f3555ac8</td>\n",
       "      <td>goiania</td>\n",
       "      <td>GO</td>\n",
       "      <td>74565</td>\n",
       "      <td>-14.315260</td>\n",
       "      <td>-49.150986</td>\n",
       "      <td>-0.370879</td>\n",
       "    </tr>\n",
       "    <tr>\n",
       "      <th>4</th>\n",
       "      <td>5</td>\n",
       "      <td>001b76dd48a5b1eee3e87778daa40df8</td>\n",
       "      <td>dbb67791e405873b259e4656bf971246</td>\n",
       "      <td>a62843b08086d1629415a203a7fd419d</td>\n",
       "      <td>delivered</td>\n",
       "      <td>2018-03-26 17:42:53</td>\n",
       "      <td>81.99</td>\n",
       "      <td>credit_card</td>\n",
       "      <td>computers_accessories</td>\n",
       "      <td>207.0</td>\n",
       "      <td>5bb39c890c91b1d26801aa19a9336eac</td>\n",
       "      <td>sao paulo</td>\n",
       "      <td>004c9cd9d87a3c30c522c48c4fc07416</td>\n",
       "      <td>ibitinga</td>\n",
       "      <td>SP</td>\n",
       "      <td>14940</td>\n",
       "      <td>-23.988847</td>\n",
       "      <td>-48.872939</td>\n",
       "      <td>-0.196288</td>\n",
       "    </tr>\n",
       "  </tbody>\n",
       "</table>\n",
       "</div>"
      ],
      "text/plain": [
       "   index                          order_id  ... geolocation_lng price_stand\n",
       "0      1  0006ec9db01a64e59a68b2c340bf65a7  ...      -43.903035   -0.239557\n",
       "1      2  00119ff934e539cf26f92b9ef0cdfed8  ...      -43.438347    0.550546\n",
       "2      3  0015ebb40fb17286bea51d4607c4733c  ...      -47.470719   -0.521697\n",
       "3      4  0016dfedd97fc2950e388d2971d718c7  ...      -49.150986   -0.370879\n",
       "4      5  001b76dd48a5b1eee3e87778daa40df8  ...      -48.872939   -0.196288\n",
       "\n",
       "[5 rows x 19 columns]"
      ]
     },
     "execution_count": 287,
     "metadata": {},
     "output_type": "execute_result"
    }
   ],
   "source": [
    "df_final.head()"
   ]
  },
  {
   "cell_type": "markdown",
   "metadata": {
    "id": "HLO7BNjFALie"
   },
   "source": [
    "1. Bagaimana persebaran jenis pembayaran."
   ]
  },
  {
   "cell_type": "code",
   "execution_count": 288,
   "metadata": {
    "colab": {
     "base_uri": "https://localhost:8080/",
     "height": 174
    },
    "id": "NXb7PkAO-y-C",
    "outputId": "70030161-2cdd-419f-caaf-0b90167ccf16"
   },
   "outputs": [
    {
     "data": {
      "text/html": [
       "<div>\n",
       "<style scoped>\n",
       "    .dataframe tbody tr th:only-of-type {\n",
       "        vertical-align: middle;\n",
       "    }\n",
       "\n",
       "    .dataframe tbody tr th {\n",
       "        vertical-align: top;\n",
       "    }\n",
       "\n",
       "    .dataframe thead th {\n",
       "        text-align: right;\n",
       "    }\n",
       "</style>\n",
       "<table border=\"1\" class=\"dataframe\">\n",
       "  <thead>\n",
       "    <tr style=\"text-align: right;\">\n",
       "      <th></th>\n",
       "      <th>payment_type</th>\n",
       "      <th>order_id</th>\n",
       "    </tr>\n",
       "  </thead>\n",
       "  <tbody>\n",
       "    <tr>\n",
       "      <th>0</th>\n",
       "      <td>boleto</td>\n",
       "      <td>563</td>\n",
       "    </tr>\n",
       "    <tr>\n",
       "      <th>1</th>\n",
       "      <td>credit_card</td>\n",
       "      <td>2241</td>\n",
       "    </tr>\n",
       "    <tr>\n",
       "      <th>2</th>\n",
       "      <td>debit_card</td>\n",
       "      <td>45</td>\n",
       "    </tr>\n",
       "    <tr>\n",
       "      <th>3</th>\n",
       "      <td>voucher</td>\n",
       "      <td>157</td>\n",
       "    </tr>\n",
       "  </tbody>\n",
       "</table>\n",
       "</div>"
      ],
      "text/plain": [
       "  payment_type  order_id\n",
       "0       boleto       563\n",
       "1  credit_card      2241\n",
       "2   debit_card        45\n",
       "3      voucher       157"
      ]
     },
     "execution_count": 288,
     "metadata": {},
     "output_type": "execute_result"
    }
   ],
   "source": [
    "#Another Insight (jenis pembayaran yang banyak dilakukan pada  saat order)\n",
    "df_pembayaran = df_final.groupby('payment_type')['order_id'].count().reset_index()\n",
    "df_pembayaran"
   ]
  },
  {
   "cell_type": "code",
   "execution_count": 289,
   "metadata": {
    "colab": {
     "base_uri": "https://localhost:8080/",
     "height": 281
    },
    "id": "XdFrjyZZ5kwa",
    "outputId": "2f032161-ff5b-4efe-ff8f-c290f7b9cf3f"
   },
   "outputs": [
    {
     "data": {
      "image/png": "[encoded data removed]",
      "text/plain": [
       "<Figure size 432x288 with 1 Axes>"
      ]
     },
     "metadata": {
      "needs_background": "light"
     },
     "output_type": "display_data"
    }
   ],
   "source": [
    "payment = df_pembayaran.plot.bar(x='payment_type', y='order_id', rot=0)"
   ]
  },
  {
   "cell_type": "markdown",
   "metadata": {
    "id": "AF44LlzmF_hl"
   },
   "source": [
    "2. Bagaimana persebaran wilayah customer?"
   ]
  },
  {
   "cell_type": "code",
   "execution_count": 290,
   "metadata": {
    "colab": {
     "base_uri": "https://localhost:8080/"
    },
    "id": "wdaTlqjXGDAz",
    "outputId": "11629636-47fa-4cc4-f63d-1a154b12f991"
   },
   "outputs": [
    {
     "data": {
      "text/plain": [
       "sao paulo         475\n",
       "rio de janeiro    232\n",
       "belo horizonte     74\n",
       "brasilia           67\n",
       "porto alegre       50\n",
       "                 ... \n",
       "casa branca         1\n",
       "mossoro             1\n",
       "urubici             1\n",
       "andradas            1\n",
       "moju                1\n",
       "Name: customer_city, Length: 798, dtype: int64"
      ]
     },
     "execution_count": 290,
     "metadata": {},
     "output_type": "execute_result"
    }
   ],
   "source": [
    "#Another insight (wilayah asal customer)\n",
    "df_wilayah = df_final['customer_city'].value_counts()\n",
    "df_wilayah"
   ]
  },
  {
   "cell_type": "code",
   "execution_count": 295,
   "metadata": {
    "colab": {
     "base_uri": "https://localhost:8080/"
    },
    "id": "SPAlU77CGRSx",
    "outputId": "28d89f51-6af8-4d68-f2b1-ffd29d63f1f4"
   },
   "outputs": [
    {
     "data": {
      "text/plain": [
       "sao paulo         475\n",
       "rio de janeiro    232\n",
       "belo horizonte     74\n",
       "Name: customer_city, dtype: int64"
      ]
     },
     "execution_count": 295,
     "metadata": {},
     "output_type": "execute_result"
    }
   ],
   "source": [
    "# Memfilter 3 data pertama Kateogry produk dan jumlah order\n",
    "df_top_wilayah = df_wilayah.iloc[0:3]\n",
    "df_top_wilayah"
   ]
  },
  {
   "cell_type": "code",
   "execution_count": 296,
   "metadata": {
    "colab": {
     "base_uri": "https://localhost:8080/",
     "height": 265
    },
    "id": "cCCv-4WrGbz0",
    "outputId": "3b7d4087-93ce-464e-f582-2043bb58d747"
   },
   "outputs": [
    {
     "data": {
      "image/png": "[encoded data removed]",
      "text/plain": [
       "<Figure size 432x288 with 1 Axes>"
      ]
     },
     "metadata": {
      "needs_background": "light"
     },
     "output_type": "display_data"
    }
   ],
   "source": [
    "wilayah = df_top_wilayah.plot.bar(x='customer_city', y='order_id', rot=0)"
   ]
  },
  {
   "cell_type": "markdown",
   "metadata": {
    "id": "BGHd7AikFp13"
   },
   "source": [
    "3. Berapa jumlah customer setiap kategori produk? "
   ]
  },
  {
   "cell_type": "code",
   "execution_count": 292,
   "metadata": {
    "colab": {
     "base_uri": "https://localhost:8080/"
    },
    "id": "lMsfhr3nCXLA",
    "outputId": "0a870339-4d2f-4aa4-b81b-40381b8f68b6"
   },
   "outputs": [
    {
     "data": {
      "text/plain": [
       "bed_bath_table           314\n",
       "health_beauty            278\n",
       "furniture_decor          226\n",
       "sports_leisure           222\n",
       "housewares               178\n",
       "                        ... \n",
       "home_comfort_2             1\n",
       "arts_and_craftmanship      1\n",
       "food_drink                 1\n",
       "cine_photo                 1\n",
       "diapers_and_hygiene        1\n",
       "Name: product_category_name, Length: 64, dtype: int64"
      ]
     },
     "execution_count": 292,
     "metadata": {},
     "output_type": "execute_result"
    }
   ],
   "source": [
    "#Another Insight (jenis produk yang banyak dicari)\n",
    "df_jenis_produk = df_final['product_category_name'].value_counts()\n",
    "df_jenis_produk"
   ]
  },
  {
   "cell_type": "code",
   "execution_count": 293,
   "metadata": {
    "colab": {
     "base_uri": "https://localhost:8080/"
    },
    "id": "bx_10MmeE5AM",
    "outputId": "df816ba9-13ac-4ca5-c654-4b117fd7917b"
   },
   "outputs": [
    {
     "data": {
      "text/plain": [
       "bed_bath_table     314\n",
       "health_beauty      278\n",
       "furniture_decor    226\n",
       "Name: product_category_name, dtype: int64"
      ]
     },
     "execution_count": 293,
     "metadata": {},
     "output_type": "execute_result"
    }
   ],
   "source": [
    "# Memfilter 3 data pertama Kateogry produk dan jumlah order\n",
    "df_top_jenis = df_jenis_produk.iloc[0:3]\n",
    "df_top_jenis"
   ]
  },
  {
   "cell_type": "code",
   "execution_count": 294,
   "metadata": {
    "colab": {
     "base_uri": "https://localhost:8080/",
     "height": 266
    },
    "id": "t20lrT0234iE",
    "outputId": "5e12c616-2e5c-4645-94af-05853692dd50"
   },
   "outputs": [
    {
     "data": {
      "image/png": "[encoded data removed]",
      "text/plain": [
       "<Figure size 432x288 with 1 Axes>"
      ]
     },
     "metadata": {
      "needs_background": "light"
     },
     "output_type": "display_data"
    }
   ],
   "source": [
    "produk = df_top_jenis.plot.bar(x='product_category_name', y='order_id', rot=0)"
   ]
  },
  {
   "cell_type": "markdown",
   "metadata": {
    "id": "EVYEbWFcLFm5"
   },
   "source": [
    "## REKOMENDASI"
   ]
  },
  {
   "cell_type": "markdown",
   "metadata": {
    "id": "uKCnqg6VKn8P"
   },
   "source": [
    "## KESIMPULAN - Create the story"
   ]
  },
  {
   "cell_type": "markdown",
   "metadata": {
    "id": "l-NBigrlHHx5"
   },
   "source": [
    "Data Case Study 2 mengenai Olist Store yaitu salah satu e-Commerce terbesar di Brazil.\n",
    "Proses pengerjaan yang saya lakukan adalah pertama saya mengconnectkan google colab ke google drive untuk nantinya membaca dataset. Setelah bisa membaca data, saya memfilter kolom yang akan saya pakai tiap tabelnya.\n",
    "Selanjutnya, saya melakukan proses cleansing yang mana saya mengecek missing values, duplicate, dan tipe data.\n",
    "Setelah data saya bersih, saya melakukan proses EDA untuk dapat menjawab Problem Statement yang saya inginkan.\n",
    "\n",
    "\n",
    "1. Bagaimana persebaran jenis pembayaran yang dilakukan oleh customer? (order-payment type, customer-customer_id)\n",
    "\n",
    "  Persebaran jenis pembayaran yang banyak dilakukan diurutkan yang paling banyak hingga yang sedikit adalah credit card, boleto, voucher, dan debit card.\n",
    "\n",
    "2. Bagaimana persebaran asal wilayah customer?\n",
    "\n",
    "  3 besar wilayah asal dari customer antara lain sao paulo, rio de janeiro, dan beto horizonte.\n",
    "\n",
    "3. Produk apa yang banyak dicari oleh customer? (product- product_category_name, customer-customer_id) \n",
    "\n",
    "  Jenis produk yang paling banyak dicari oleh customer adalah  bed_bath_table, health_beauty, dan furniture_decor. Hal ini dibuktikan dengan jenis produk ini yang sering muncul dalam data yang ada.\n",
    "\n"
   ]
  }
 ],
 "metadata": {
  "colab": {
   "collapsed_sections": [],
   "name": "Aulia Ramadhan_Capstone Final.ipynb",
   "provenance": []
  },
  "kernelspec": {
   "display_name": "Python 3 (ipykernel)",
   "language": "python",
   "name": "python3"
  },
  "language_info": {
   "codemirror_mode": {
    "name": "ipython",
    "version": 3
   },
   "file_extension": ".py",
   "mimetype": "text/x-python",
   "name": "python",
   "nbconvert_exporter": "python",
   "pygments_lexer": "ipython3",
   "version": "3.9.13"
  }
 },
 "nbformat": 4,
 "nbformat_minor": 1
}
